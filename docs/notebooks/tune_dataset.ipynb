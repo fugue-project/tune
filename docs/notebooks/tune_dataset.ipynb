{
 "metadata": {
  "language_info": {
   "codemirror_mode": {
    "name": "ipython",
    "version": 3
   },
   "file_extension": ".py",
   "mimetype": "text/x-python",
   "name": "python",
   "nbconvert_exporter": "python",
   "pygments_lexer": "ipython3",
   "version": "3.7.9"
  },
  "orig_nbformat": 2,
  "kernelspec": {
   "name": "python379jvsc74a57bd04cd7ab41f5fca4b9b44701077e38c5ffd31fe66a6cab21e0214b68d958d0e462",
   "display_name": "Python 3.7.9 64-bit"
  }
 },
 "nbformat": 4,
 "nbformat_minor": 2,
 "cells": [
  {
   "source": [
    "# Tune Dataset\n",
    "\n",
    "`TuneDataset` contains searching space and all related dataframes with metadata for a tuning task.\n",
    "\n",
    "`TuneDataset` should not to be constructed by users directly. Instead, you should use `TuneDatasetBuilder` or the factory method to construct `TuneDataset`."
   ],
   "cell_type": "markdown",
   "metadata": {}
  },
  {
   "cell_type": "code",
   "execution_count": 1,
   "metadata": {},
   "outputs": [],
   "source": [
    "from fugue_notebook import setup\n",
    "\n",
    "setup(is_lab=True)\n",
    "\n",
    "import pandas as pd\n",
    "from tune import TUNE_OBJECT_FACTORY, TuneDatasetBuilder, Space, Grid\n",
    "from fugue import FugueWorkflow"
   ]
  },
  {
   "source": [
    "`TUNE_OBJECT_FACTORY.make_dataset` is a wrapper of `TuneDatasetBuilder`, making the dataset construction even easier. But `TuneDatasetBuilder` still has the most flexibility. For example, it can add multiple dataframes with different join types while `TUNE_OBJECT_FACTORY.make_dataset` can add at most two dataframes (nomrally train and validations dataframes)."
   ],
   "cell_type": "markdown",
   "metadata": {}
  },
  {
   "cell_type": "code",
   "execution_count": 2,
   "metadata": {},
   "outputs": [
    {
     "output_type": "display_data",
     "data": {
      "text/plain": "                                     __tune_trials__\n0  [{\"trial_id\": \"df8d686f-374b-509d-b8af-3a83899...",
      "text/html": "<div>\n<style scoped>\n    .dataframe tbody tr th:only-of-type {\n        vertical-align: middle;\n    }\n\n    .dataframe tbody tr th {\n        vertical-align: top;\n    }\n\n    .dataframe thead th {\n        text-align: right;\n    }\n</style>\n<table border=\"1\" class=\"dataframe\">\n  <thead>\n    <tr style=\"text-align: right;\">\n      <th></th>\n      <th>__tune_trials__</th>\n    </tr>\n  </thead>\n  <tbody>\n    <tr>\n      <th>0</th>\n      <td>[{\"trial_id\": \"df8d686f-374b-509d-b8af-3a83899...</td>\n    </tr>\n  </tbody>\n</table>\n</div>"
     },
     "metadata": {}
    },
    {
     "output_type": "display_data",
     "data": {
      "text/plain": "<IPython.core.display.HTML object>",
      "text/html": "<small>schema: __tune_trials__:str</small>"
     },
     "metadata": {}
    },
    {
     "output_type": "display_data",
     "data": {
      "text/plain": "                                     __tune_trials__\n0  [{\"trial_id\": \"df8d686f-374b-509d-b8af-3a83899...",
      "text/html": "<div>\n<style scoped>\n    .dataframe tbody tr th:only-of-type {\n        vertical-align: middle;\n    }\n\n    .dataframe tbody tr th {\n        vertical-align: top;\n    }\n\n    .dataframe thead th {\n        text-align: right;\n    }\n</style>\n<table border=\"1\" class=\"dataframe\">\n  <thead>\n    <tr style=\"text-align: right;\">\n      <th></th>\n      <th>__tune_trials__</th>\n    </tr>\n  </thead>\n  <tbody>\n    <tr>\n      <th>0</th>\n      <td>[{\"trial_id\": \"df8d686f-374b-509d-b8af-3a83899...</td>\n    </tr>\n  </tbody>\n</table>\n</div>"
     },
     "metadata": {}
    },
    {
     "output_type": "display_data",
     "data": {
      "text/plain": "<IPython.core.display.HTML object>",
      "text/html": "<small>schema: __tune_trials__:str</small>"
     },
     "metadata": {}
    }
   ],
   "source": [
    "with FugueWorkflow() as dag:\n",
    "    builder = TuneDatasetBuilder(Space(a=1, b=2))\n",
    "    dataset = builder.build(dag)\n",
    "    dataset.data.show();\n",
    "\n",
    "with FugueWorkflow() as dag:\n",
    "    dataset = TUNE_OBJECT_FACTORY.make_dataset(dag, Space(a=1, b=2))\n",
    "    dataset.data.show();"
   ]
  },
  {
   "source": [
    "Here are the equivalent ways to construct `TuneDataset` with space and two dataframes.\n",
    "\n",
    "In `TuneDataset`, every dataframe will be partition by certain keys, and each partition will be saved into a temp parquet file. The temp path must be specified. Using the factory, you can call `set_temp_path` once so you no longer need to provide the temp path explicitly, if you still provide a path, it will be used."
   ],
   "cell_type": "markdown",
   "metadata": {}
  },
  {
   "cell_type": "code",
   "execution_count": 30,
   "metadata": {},
   "outputs": [
    {
     "output_type": "display_data",
     "data": {
      "text/plain": "   a                                     __tune_df__df1  \\\n0  0  /tmp/4d8e91ca-0d0c-46f5-965f-e72cc672b13e.parquet   \n1  0  /tmp/4d8e91ca-0d0c-46f5-965f-e72cc672b13e.parquet   \n2  0  /tmp/4d8e91ca-0d0c-46f5-965f-e72cc672b13e.parquet   \n3  1  /tmp/8f597ad5-f96e-4d2b-a27f-428c56508cfc.parquet   \n4  1  /tmp/8f597ad5-f96e-4d2b-a27f-428c56508cfc.parquet   \n5  1  /tmp/8f597ad5-f96e-4d2b-a27f-428c56508cfc.parquet   \n\n                                      __tune_df__df2  \\\n0  /tmp/24d12a86-313d-472e-ac40-7fb743d6f25c.parquet   \n1  /tmp/24d12a86-313d-472e-ac40-7fb743d6f25c.parquet   \n2  /tmp/24d12a86-313d-472e-ac40-7fb743d6f25c.parquet   \n3  /tmp/2a305b16-cc8f-47c8-a11f-79196624bc88.parquet   \n4  /tmp/2a305b16-cc8f-47c8-a11f-79196624bc88.parquet   \n5  /tmp/2a305b16-cc8f-47c8-a11f-79196624bc88.parquet   \n\n                                     __tune_trials__  \n0  [{\"trial_id\": \"35e1bdd1-424e-532d-b788-09fbf54...  \n1  [{\"trial_id\": \"26eba2e7-a331-531a-8576-db1a2c6...  \n2  [{\"trial_id\": \"806b49f1-c1fc-5023-8b81-835dd8a...  \n3  [{\"trial_id\": \"bb5aa50f-913b-501d-8158-9afc1f2...  \n4  [{\"trial_id\": \"20ab107e-8c69-51d6-8b2f-6a5466d...  \n5  [{\"trial_id\": \"66664ecc-14ad-5d02-a273-ef53d4d...  ",
      "text/html": "<div>\n<style scoped>\n    .dataframe tbody tr th:only-of-type {\n        vertical-align: middle;\n    }\n\n    .dataframe tbody tr th {\n        vertical-align: top;\n    }\n\n    .dataframe thead th {\n        text-align: right;\n    }\n</style>\n<table border=\"1\" class=\"dataframe\">\n  <thead>\n    <tr style=\"text-align: right;\">\n      <th></th>\n      <th>a</th>\n      <th>__tune_df__df1</th>\n      <th>__tune_df__df2</th>\n      <th>__tune_trials__</th>\n    </tr>\n  </thead>\n  <tbody>\n    <tr>\n      <th>0</th>\n      <td>0</td>\n      <td>/tmp/4d8e91ca-0d0c-46f5-965f-e72cc672b13e.parquet</td>\n      <td>/tmp/24d12a86-313d-472e-ac40-7fb743d6f25c.parquet</td>\n      <td>[{\"trial_id\": \"35e1bdd1-424e-532d-b788-09fbf54...</td>\n    </tr>\n    <tr>\n      <th>1</th>\n      <td>0</td>\n      <td>/tmp/4d8e91ca-0d0c-46f5-965f-e72cc672b13e.parquet</td>\n      <td>/tmp/24d12a86-313d-472e-ac40-7fb743d6f25c.parquet</td>\n      <td>[{\"trial_id\": \"26eba2e7-a331-531a-8576-db1a2c6...</td>\n    </tr>\n    <tr>\n      <th>2</th>\n      <td>0</td>\n      <td>/tmp/4d8e91ca-0d0c-46f5-965f-e72cc672b13e.parquet</td>\n      <td>/tmp/24d12a86-313d-472e-ac40-7fb743d6f25c.parquet</td>\n      <td>[{\"trial_id\": \"806b49f1-c1fc-5023-8b81-835dd8a...</td>\n    </tr>\n    <tr>\n      <th>3</th>\n      <td>1</td>\n      <td>/tmp/8f597ad5-f96e-4d2b-a27f-428c56508cfc.parquet</td>\n      <td>/tmp/2a305b16-cc8f-47c8-a11f-79196624bc88.parquet</td>\n      <td>[{\"trial_id\": \"bb5aa50f-913b-501d-8158-9afc1f2...</td>\n    </tr>\n    <tr>\n      <th>4</th>\n      <td>1</td>\n      <td>/tmp/8f597ad5-f96e-4d2b-a27f-428c56508cfc.parquet</td>\n      <td>/tmp/2a305b16-cc8f-47c8-a11f-79196624bc88.parquet</td>\n      <td>[{\"trial_id\": \"20ab107e-8c69-51d6-8b2f-6a5466d...</td>\n    </tr>\n    <tr>\n      <th>5</th>\n      <td>1</td>\n      <td>/tmp/8f597ad5-f96e-4d2b-a27f-428c56508cfc.parquet</td>\n      <td>/tmp/2a305b16-cc8f-47c8-a11f-79196624bc88.parquet</td>\n      <td>[{\"trial_id\": \"66664ecc-14ad-5d02-a273-ef53d4d...</td>\n    </tr>\n  </tbody>\n</table>\n</div>"
     },
     "metadata": {}
    },
    {
     "output_type": "display_data",
     "data": {
      "text/plain": "<IPython.core.display.HTML object>",
      "text/html": "<small>schema: a:long,__tune_df__df1:str,__tune_df__df2:str,__tune_trials__:str</small>"
     },
     "metadata": {}
    },
    {
     "output_type": "display_data",
     "data": {
      "text/plain": "   a                                     __tune_df__df1  \\\n0  0  /tmp/502c5c14-31e3-482e-90e7-ec9db27486d1.parquet   \n1  0  /tmp/502c5c14-31e3-482e-90e7-ec9db27486d1.parquet   \n2  0  /tmp/502c5c14-31e3-482e-90e7-ec9db27486d1.parquet   \n3  1  /tmp/9ac2387f-b99b-4c0f-9797-397f393600f4.parquet   \n4  1  /tmp/9ac2387f-b99b-4c0f-9797-397f393600f4.parquet   \n5  1  /tmp/9ac2387f-b99b-4c0f-9797-397f393600f4.parquet   \n\n                                      __tune_df__df2  \\\n0  /tmp/e74ed78a-333b-4166-afb0-84c6c021d8f2.parquet   \n1  /tmp/e74ed78a-333b-4166-afb0-84c6c021d8f2.parquet   \n2  /tmp/e74ed78a-333b-4166-afb0-84c6c021d8f2.parquet   \n3  /tmp/e80978e6-a50b-4835-9cc1-e2863b00bd44.parquet   \n4  /tmp/e80978e6-a50b-4835-9cc1-e2863b00bd44.parquet   \n5  /tmp/e80978e6-a50b-4835-9cc1-e2863b00bd44.parquet   \n\n                                     __tune_trials__  \n0  [{\"trial_id\": \"35e1bdd1-424e-532d-b788-09fbf54...  \n1  [{\"trial_id\": \"26eba2e7-a331-531a-8576-db1a2c6...  \n2  [{\"trial_id\": \"806b49f1-c1fc-5023-8b81-835dd8a...  \n3  [{\"trial_id\": \"bb5aa50f-913b-501d-8158-9afc1f2...  \n4  [{\"trial_id\": \"20ab107e-8c69-51d6-8b2f-6a5466d...  \n5  [{\"trial_id\": \"66664ecc-14ad-5d02-a273-ef53d4d...  ",
      "text/html": "<div>\n<style scoped>\n    .dataframe tbody tr th:only-of-type {\n        vertical-align: middle;\n    }\n\n    .dataframe tbody tr th {\n        vertical-align: top;\n    }\n\n    .dataframe thead th {\n        text-align: right;\n    }\n</style>\n<table border=\"1\" class=\"dataframe\">\n  <thead>\n    <tr style=\"text-align: right;\">\n      <th></th>\n      <th>a</th>\n      <th>__tune_df__df1</th>\n      <th>__tune_df__df2</th>\n      <th>__tune_trials__</th>\n    </tr>\n  </thead>\n  <tbody>\n    <tr>\n      <th>0</th>\n      <td>0</td>\n      <td>/tmp/502c5c14-31e3-482e-90e7-ec9db27486d1.parquet</td>\n      <td>/tmp/e74ed78a-333b-4166-afb0-84c6c021d8f2.parquet</td>\n      <td>[{\"trial_id\": \"35e1bdd1-424e-532d-b788-09fbf54...</td>\n    </tr>\n    <tr>\n      <th>1</th>\n      <td>0</td>\n      <td>/tmp/502c5c14-31e3-482e-90e7-ec9db27486d1.parquet</td>\n      <td>/tmp/e74ed78a-333b-4166-afb0-84c6c021d8f2.parquet</td>\n      <td>[{\"trial_id\": \"26eba2e7-a331-531a-8576-db1a2c6...</td>\n    </tr>\n    <tr>\n      <th>2</th>\n      <td>0</td>\n      <td>/tmp/502c5c14-31e3-482e-90e7-ec9db27486d1.parquet</td>\n      <td>/tmp/e74ed78a-333b-4166-afb0-84c6c021d8f2.parquet</td>\n      <td>[{\"trial_id\": \"806b49f1-c1fc-5023-8b81-835dd8a...</td>\n    </tr>\n    <tr>\n      <th>3</th>\n      <td>1</td>\n      <td>/tmp/9ac2387f-b99b-4c0f-9797-397f393600f4.parquet</td>\n      <td>/tmp/e80978e6-a50b-4835-9cc1-e2863b00bd44.parquet</td>\n      <td>[{\"trial_id\": \"bb5aa50f-913b-501d-8158-9afc1f2...</td>\n    </tr>\n    <tr>\n      <th>4</th>\n      <td>1</td>\n      <td>/tmp/9ac2387f-b99b-4c0f-9797-397f393600f4.parquet</td>\n      <td>/tmp/e80978e6-a50b-4835-9cc1-e2863b00bd44.parquet</td>\n      <td>[{\"trial_id\": \"20ab107e-8c69-51d6-8b2f-6a5466d...</td>\n    </tr>\n    <tr>\n      <th>5</th>\n      <td>1</td>\n      <td>/tmp/9ac2387f-b99b-4c0f-9797-397f393600f4.parquet</td>\n      <td>/tmp/e80978e6-a50b-4835-9cc1-e2863b00bd44.parquet</td>\n      <td>[{\"trial_id\": \"66664ecc-14ad-5d02-a273-ef53d4d...</td>\n    </tr>\n  </tbody>\n</table>\n</div>"
     },
     "metadata": {}
    },
    {
     "output_type": "display_data",
     "data": {
      "text/plain": "<IPython.core.display.HTML object>",
      "text/html": "<small>schema: a:long,__tune_df__df1:str,__tune_df__df2:str,__tune_trials__:str</small>"
     },
     "metadata": {}
    }
   ],
   "source": [
    "pdf1 = pd.DataFrame([[0,1],[1,1],[0,2]], columns = [\"a\", \"b\"])\n",
    "pdf2 = pd.DataFrame([[0,0.5],[2,0.1],[0,0.1],[1,0.3]], columns = [\"a\", \"c\"])\n",
    "space = Space(a=1, b=Grid(1,2,3))\n",
    "\n",
    "with FugueWorkflow() as dag:\n",
    "    builder = TuneDatasetBuilder(space, path=\"/tmp\")\n",
    "    # here we must make pdf1 pdf2 the FugueWorkflowDataFrame, and they\n",
    "    # both need to be partitioned by the same keys so each partition\n",
    "    # will be saved to a temp parquet file, and the chunks of data are\n",
    "    # replaced by file paths before join.\n",
    "    builder.add_df(\"df1\", dag.df(pdf1).partition_by(\"a\"))\n",
    "    builder.add_df(\"df2\", dag.df(pdf2).partition_by(\"a\"), how=\"inner\")\n",
    "    dataset = builder.build(dag)\n",
    "    dataset.data.show();\n",
    "\n",
    "\n",
    "TUNE_OBJECT_FACTORY.set_temp_path(\"/tmp\")\n",
    "\n",
    "with FugueWorkflow() as dag:\n",
    "    # this method is significantly simpler, as long as you don't have more\n",
    "    # than 2 dataframes for a tuning task, use this.\n",
    "    dataset = TUNE_OBJECT_FACTORY.make_dataset(\n",
    "        dag, space,\n",
    "        df_name=\"df1\", df=pdf1,\n",
    "        test_df_name=\"df2\", test_df=pdf2,\n",
    "        partition_keys=[\"a\"],\n",
    "    )\n",
    "    dataset.data.show();"
   ]
  },
  {
   "source": [
    "We got 6 rows, because the space will contain 3 configurations. And since for the dataframes, we partitioned by `a` and inner joined, there will be 2 rows. So in total there are 6 rows in the `TuneDataset`.\n",
    "\n",
    "**Notice, the number of rows of TuneDataset determines max parallelism.** For this case, if you assign 10 workers, 4 will always be idle.\n",
    "\n",
    "Actually, a more common case is that for each of the dataframe, we don't partition at all. For `TUNE_OBJECT_FACTORY.make_dataset` we just need to remove the `partition_keys`."
   ],
   "cell_type": "markdown",
   "metadata": {}
  },
  {
   "source": [
    "with FugueWorkflow() as dag:\n",
    "    dataset = TUNE_OBJECT_FACTORY.make_dataset(\n",
    "        dag, space,\n",
    "        df_name=\"df1\", df=pdf1,\n",
    "        test_df_name=\"df2\", test_df=pdf2,\n",
    "    )\n",
    "    dataset.data.show();"
   ],
   "cell_type": "code",
   "metadata": {},
   "execution_count": 31,
   "outputs": [
    {
     "output_type": "display_data",
     "data": {
      "text/plain": "                                      __tune_df__df1  \\\n0  /tmp/1de411ba-c485-41b7-88a2-d98b7a81d4ec.parquet   \n1  /tmp/1de411ba-c485-41b7-88a2-d98b7a81d4ec.parquet   \n2  /tmp/1de411ba-c485-41b7-88a2-d98b7a81d4ec.parquet   \n\n                                      __tune_df__df2  \\\n0  /tmp/58541ce1-115c-40b0-988c-faa5b735cb32.parquet   \n1  /tmp/58541ce1-115c-40b0-988c-faa5b735cb32.parquet   \n2  /tmp/58541ce1-115c-40b0-988c-faa5b735cb32.parquet   \n\n                                     __tune_trials__  \n0  [{\"trial_id\": \"94bc461d-9632-5f2d-bc9c-eeacc47...  \n1  [{\"trial_id\": \"dcf70308-3959-5ae6-8c4d-d10bc8a...  \n2  [{\"trial_id\": \"df8d686f-374b-509d-b8af-3a83899...  ",
      "text/html": "<div>\n<style scoped>\n    .dataframe tbody tr th:only-of-type {\n        vertical-align: middle;\n    }\n\n    .dataframe tbody tr th {\n        vertical-align: top;\n    }\n\n    .dataframe thead th {\n        text-align: right;\n    }\n</style>\n<table border=\"1\" class=\"dataframe\">\n  <thead>\n    <tr style=\"text-align: right;\">\n      <th></th>\n      <th>__tune_df__df1</th>\n      <th>__tune_df__df2</th>\n      <th>__tune_trials__</th>\n    </tr>\n  </thead>\n  <tbody>\n    <tr>\n      <th>0</th>\n      <td>/tmp/1de411ba-c485-41b7-88a2-d98b7a81d4ec.parquet</td>\n      <td>/tmp/58541ce1-115c-40b0-988c-faa5b735cb32.parquet</td>\n      <td>[{\"trial_id\": \"94bc461d-9632-5f2d-bc9c-eeacc47...</td>\n    </tr>\n    <tr>\n      <th>1</th>\n      <td>/tmp/1de411ba-c485-41b7-88a2-d98b7a81d4ec.parquet</td>\n      <td>/tmp/58541ce1-115c-40b0-988c-faa5b735cb32.parquet</td>\n      <td>[{\"trial_id\": \"dcf70308-3959-5ae6-8c4d-d10bc8a...</td>\n    </tr>\n    <tr>\n      <th>2</th>\n      <td>/tmp/1de411ba-c485-41b7-88a2-d98b7a81d4ec.parquet</td>\n      <td>/tmp/58541ce1-115c-40b0-988c-faa5b735cb32.parquet</td>\n      <td>[{\"trial_id\": \"df8d686f-374b-509d-b8af-3a83899...</td>\n    </tr>\n  </tbody>\n</table>\n</div>"
     },
     "metadata": {}
    },
    {
     "output_type": "display_data",
     "data": {
      "text/plain": "<IPython.core.display.HTML object>",
      "text/html": "<small>schema: __tune_df__df1:str,__tune_df__df2:str,__tune_trials__:str</small>"
     },
     "metadata": {}
    }
   ]
  },
  {
   "source": [
    "But what if we want to partition on `df1` but not on `df2`? Then again, you can use `TuneDatasetBuilder`"
   ],
   "cell_type": "markdown",
   "metadata": {}
  },
  {
   "cell_type": "code",
   "execution_count": 32,
   "metadata": {},
   "outputs": [
    {
     "output_type": "display_data",
     "data": {
      "text/plain": "   a                                     __tune_df__df1  \\\n0  0  /tmp/dfd4c42f-9b81-4f56-884f-e3ea00f2b977.parquet   \n1  0  /tmp/dfd4c42f-9b81-4f56-884f-e3ea00f2b977.parquet   \n2  0  /tmp/dfd4c42f-9b81-4f56-884f-e3ea00f2b977.parquet   \n3  1  /tmp/253b8b53-1c20-4c8c-ba36-4a2a8ef926a2.parquet   \n4  1  /tmp/253b8b53-1c20-4c8c-ba36-4a2a8ef926a2.parquet   \n5  1  /tmp/253b8b53-1c20-4c8c-ba36-4a2a8ef926a2.parquet   \n\n                                      __tune_df__df2  \\\n0  /tmp/f33767e9-a48a-4245-b15c-c4e0ec2a367d.parquet   \n1  /tmp/f33767e9-a48a-4245-b15c-c4e0ec2a367d.parquet   \n2  /tmp/f33767e9-a48a-4245-b15c-c4e0ec2a367d.parquet   \n3  /tmp/f33767e9-a48a-4245-b15c-c4e0ec2a367d.parquet   \n4  /tmp/f33767e9-a48a-4245-b15c-c4e0ec2a367d.parquet   \n5  /tmp/f33767e9-a48a-4245-b15c-c4e0ec2a367d.parquet   \n\n                                     __tune_trials__  \n0  [{\"trial_id\": \"35e1bdd1-424e-532d-b788-09fbf54...  \n1  [{\"trial_id\": \"26eba2e7-a331-531a-8576-db1a2c6...  \n2  [{\"trial_id\": \"806b49f1-c1fc-5023-8b81-835dd8a...  \n3  [{\"trial_id\": \"bb5aa50f-913b-501d-8158-9afc1f2...  \n4  [{\"trial_id\": \"20ab107e-8c69-51d6-8b2f-6a5466d...  \n5  [{\"trial_id\": \"66664ecc-14ad-5d02-a273-ef53d4d...  ",
      "text/html": "<div>\n<style scoped>\n    .dataframe tbody tr th:only-of-type {\n        vertical-align: middle;\n    }\n\n    .dataframe tbody tr th {\n        vertical-align: top;\n    }\n\n    .dataframe thead th {\n        text-align: right;\n    }\n</style>\n<table border=\"1\" class=\"dataframe\">\n  <thead>\n    <tr style=\"text-align: right;\">\n      <th></th>\n      <th>a</th>\n      <th>__tune_df__df1</th>\n      <th>__tune_df__df2</th>\n      <th>__tune_trials__</th>\n    </tr>\n  </thead>\n  <tbody>\n    <tr>\n      <th>0</th>\n      <td>0</td>\n      <td>/tmp/dfd4c42f-9b81-4f56-884f-e3ea00f2b977.parquet</td>\n      <td>/tmp/f33767e9-a48a-4245-b15c-c4e0ec2a367d.parquet</td>\n      <td>[{\"trial_id\": \"35e1bdd1-424e-532d-b788-09fbf54...</td>\n    </tr>\n    <tr>\n      <th>1</th>\n      <td>0</td>\n      <td>/tmp/dfd4c42f-9b81-4f56-884f-e3ea00f2b977.parquet</td>\n      <td>/tmp/f33767e9-a48a-4245-b15c-c4e0ec2a367d.parquet</td>\n      <td>[{\"trial_id\": \"26eba2e7-a331-531a-8576-db1a2c6...</td>\n    </tr>\n    <tr>\n      <th>2</th>\n      <td>0</td>\n      <td>/tmp/dfd4c42f-9b81-4f56-884f-e3ea00f2b977.parquet</td>\n      <td>/tmp/f33767e9-a48a-4245-b15c-c4e0ec2a367d.parquet</td>\n      <td>[{\"trial_id\": \"806b49f1-c1fc-5023-8b81-835dd8a...</td>\n    </tr>\n    <tr>\n      <th>3</th>\n      <td>1</td>\n      <td>/tmp/253b8b53-1c20-4c8c-ba36-4a2a8ef926a2.parquet</td>\n      <td>/tmp/f33767e9-a48a-4245-b15c-c4e0ec2a367d.parquet</td>\n      <td>[{\"trial_id\": \"bb5aa50f-913b-501d-8158-9afc1f2...</td>\n    </tr>\n    <tr>\n      <th>4</th>\n      <td>1</td>\n      <td>/tmp/253b8b53-1c20-4c8c-ba36-4a2a8ef926a2.parquet</td>\n      <td>/tmp/f33767e9-a48a-4245-b15c-c4e0ec2a367d.parquet</td>\n      <td>[{\"trial_id\": \"20ab107e-8c69-51d6-8b2f-6a5466d...</td>\n    </tr>\n    <tr>\n      <th>5</th>\n      <td>1</td>\n      <td>/tmp/253b8b53-1c20-4c8c-ba36-4a2a8ef926a2.parquet</td>\n      <td>/tmp/f33767e9-a48a-4245-b15c-c4e0ec2a367d.parquet</td>\n      <td>[{\"trial_id\": \"66664ecc-14ad-5d02-a273-ef53d4d...</td>\n    </tr>\n  </tbody>\n</table>\n</div>"
     },
     "metadata": {}
    },
    {
     "output_type": "display_data",
     "data": {
      "text/plain": "<IPython.core.display.HTML object>",
      "text/html": "<small>schema: a:long,__tune_df__df1:str,__tune_df__df2:str,__tune_trials__:str</small>"
     },
     "metadata": {}
    }
   ],
   "source": [
    "with FugueWorkflow() as dag:\n",
    "    builder = TuneDatasetBuilder(space, path=\"/tmp\")\n",
    "    builder.add_df(\"df1\", dag.df(pdf1).partition_by(\"a\"))\n",
    "    # use cross join because there no common key\n",
    "    builder.add_df(\"df2\", dag.df(pdf2), how=\"cross\")  \n",
    "    dataset = builder.build(dag)\n",
    "    dataset.data.show();"
   ]
  },
  {
   "cell_type": "code",
   "execution_count": null,
   "metadata": {},
   "outputs": [],
   "source": []
  }
 ]
}