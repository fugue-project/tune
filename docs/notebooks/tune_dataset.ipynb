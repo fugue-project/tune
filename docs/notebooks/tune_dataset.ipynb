{
 "metadata": {
  "language_info": {
   "codemirror_mode": {
    "name": "ipython",
    "version": 3
   },
   "file_extension": ".py",
   "mimetype": "text/x-python",
   "name": "python",
   "nbconvert_exporter": "python",
   "pygments_lexer": "ipython3",
   "version": "3.7.9"
  },
  "orig_nbformat": 2,
  "kernelspec": {
   "name": "python3",
   "display_name": "Python 3.7.9 64-bit"
  },
  "interpreter": {
   "hash": "4cd7ab41f5fca4b9b44701077e38c5ffd31fe66a6cab21e0214b68d958d0e462"
  }
 },
 "nbformat": 4,
 "nbformat_minor": 2,
 "cells": [
  {
   "cell_type": "markdown",
   "source": [
    "# Tune Dataset\n",
    "\n",
    "`TuneDataset` contains searching space and all related dataframes with metadata for a tuning task.\n",
    "\n",
    "`TuneDataset` should not to be constructed by users directly. Instead, you should use `TuneDatasetBuilder` or the factory method to construct `TuneDataset`."
   ],
   "metadata": {}
  },
  {
   "cell_type": "code",
   "execution_count": 1,
   "source": [
    "from fugue_notebook import setup\n",
    "\n",
    "setup(is_lab=True)\n",
    "\n",
    "import pandas as pd\n",
    "from tune import TUNE_OBJECT_FACTORY, TuneDatasetBuilder, Space, Grid\n",
    "from fugue import FugueWorkflow"
   ],
   "outputs": [],
   "metadata": {}
  },
  {
   "cell_type": "markdown",
   "source": [
    "`TUNE_OBJECT_FACTORY.make_dataset` is a wrapper of `TuneDatasetBuilder`, making the dataset construction even easier. But `TuneDatasetBuilder` still has the most flexibility. For example, it can add multiple dataframes with different join types while `TUNE_OBJECT_FACTORY.make_dataset` can add at most two dataframes (nomrally train and validations dataframes)."
   ],
   "metadata": {}
  },
  {
   "cell_type": "code",
   "execution_count": 2,
   "source": [
    "with FugueWorkflow() as dag:\n",
    "    builder = TuneDatasetBuilder(Space(a=1, b=2))\n",
    "    dataset = builder.build(dag)\n",
    "    dataset.data.show();\n",
    "\n",
    "with FugueWorkflow() as dag:\n",
    "    dataset = TUNE_OBJECT_FACTORY.make_dataset(dag, Space(a=1, b=2))\n",
    "    dataset.data.show();"
   ],
   "outputs": [
    {
     "output_type": "display_data",
     "data": {
      "text/html": [
       "<div>\n",
       "<style scoped>\n",
       "    .dataframe tbody tr th:only-of-type {\n",
       "        vertical-align: middle;\n",
       "    }\n",
       "\n",
       "    .dataframe tbody tr th {\n",
       "        vertical-align: top;\n",
       "    }\n",
       "\n",
       "    .dataframe thead th {\n",
       "        text-align: right;\n",
       "    }\n",
       "</style>\n",
       "<table border=\"1\" class=\"dataframe\">\n",
       "  <thead>\n",
       "    <tr style=\"text-align: right;\">\n",
       "      <th></th>\n",
       "      <th>__tune_trials__</th>\n",
       "    </tr>\n",
       "  </thead>\n",
       "  <tbody>\n",
       "    <tr>\n",
       "      <th>0</th>\n",
       "      <td>gASVXwEAAAAAAABdlIwYdHVuZS5jb25jZXB0cy5mbG93Ln...</td>\n",
       "    </tr>\n",
       "  </tbody>\n",
       "</table>\n",
       "</div>"
      ],
      "text/plain": [
       "                                     __tune_trials__\n",
       "0  gASVXwEAAAAAAABdlIwYdHVuZS5jb25jZXB0cy5mbG93Ln..."
      ]
     },
     "metadata": {}
    },
    {
     "output_type": "display_data",
     "data": {
      "text/html": [
       "<small>schema: __tune_trials__:str</small>"
      ],
      "text/plain": [
       "<IPython.core.display.HTML object>"
      ]
     },
     "metadata": {}
    },
    {
     "output_type": "display_data",
     "data": {
      "text/html": [
       "<div>\n",
       "<style scoped>\n",
       "    .dataframe tbody tr th:only-of-type {\n",
       "        vertical-align: middle;\n",
       "    }\n",
       "\n",
       "    .dataframe tbody tr th {\n",
       "        vertical-align: top;\n",
       "    }\n",
       "\n",
       "    .dataframe thead th {\n",
       "        text-align: right;\n",
       "    }\n",
       "</style>\n",
       "<table border=\"1\" class=\"dataframe\">\n",
       "  <thead>\n",
       "    <tr style=\"text-align: right;\">\n",
       "      <th></th>\n",
       "      <th>__tune_trials__</th>\n",
       "    </tr>\n",
       "  </thead>\n",
       "  <tbody>\n",
       "    <tr>\n",
       "      <th>0</th>\n",
       "      <td>gASVXwEAAAAAAABdlIwYdHVuZS5jb25jZXB0cy5mbG93Ln...</td>\n",
       "    </tr>\n",
       "  </tbody>\n",
       "</table>\n",
       "</div>"
      ],
      "text/plain": [
       "                                     __tune_trials__\n",
       "0  gASVXwEAAAAAAABdlIwYdHVuZS5jb25jZXB0cy5mbG93Ln..."
      ]
     },
     "metadata": {}
    },
    {
     "output_type": "display_data",
     "data": {
      "text/html": [
       "<small>schema: __tune_trials__:str</small>"
      ],
      "text/plain": [
       "<IPython.core.display.HTML object>"
      ]
     },
     "metadata": {}
    }
   ],
   "metadata": {}
  },
  {
   "cell_type": "markdown",
   "source": [
    "Here are the equivalent ways to construct `TuneDataset` with space and two dataframes.\n",
    "\n",
    "In `TuneDataset`, every dataframe will be partition by certain keys, and each partition will be saved into a temp parquet file. The temp path must be specified. Using the factory, you can call `set_temp_path` once so you no longer need to provide the temp path explicitly, if you still provide a path, it will be used."
   ],
   "metadata": {}
  },
  {
   "cell_type": "code",
   "execution_count": 3,
   "source": [
    "pdf1 = pd.DataFrame([[0,1],[1,1],[0,2]], columns = [\"a\", \"b\"])\n",
    "pdf2 = pd.DataFrame([[0,0.5],[2,0.1],[0,0.1],[1,0.3]], columns = [\"a\", \"c\"])\n",
    "space = Space(a=1, b=Grid(1,2,3))\n",
    "\n",
    "with FugueWorkflow() as dag:\n",
    "    builder = TuneDatasetBuilder(space, path=\"/tmp\")\n",
    "    # here we must make pdf1 pdf2 the FugueWorkflowDataFrame, and they\n",
    "    # both need to be partitioned by the same keys so each partition\n",
    "    # will be saved to a temp parquet file, and the chunks of data are\n",
    "    # replaced by file paths before join.\n",
    "    builder.add_df(\"df1\", dag.df(pdf1).partition_by(\"a\"))\n",
    "    builder.add_df(\"df2\", dag.df(pdf2).partition_by(\"a\"), how=\"inner\")\n",
    "    dataset = builder.build(dag)\n",
    "    dataset.data.show();\n",
    "\n",
    "\n",
    "TUNE_OBJECT_FACTORY.set_temp_path(\"/tmp\")\n",
    "\n",
    "with FugueWorkflow() as dag:\n",
    "    # this method is significantly simpler, as long as you don't have more\n",
    "    # than 2 dataframes for a tuning task, use this.\n",
    "    dataset = TUNE_OBJECT_FACTORY.make_dataset(\n",
    "        dag, space,\n",
    "        df_name=\"df1\", df=pdf1,\n",
    "        test_df_name=\"df2\", test_df=pdf2,\n",
    "        partition_keys=[\"a\"],\n",
    "    )\n",
    "    dataset.data.show();"
   ],
   "outputs": [
    {
     "output_type": "display_data",
     "data": {
      "text/html": [
       "<div>\n",
       "<style scoped>\n",
       "    .dataframe tbody tr th:only-of-type {\n",
       "        vertical-align: middle;\n",
       "    }\n",
       "\n",
       "    .dataframe tbody tr th {\n",
       "        vertical-align: top;\n",
       "    }\n",
       "\n",
       "    .dataframe thead th {\n",
       "        text-align: right;\n",
       "    }\n",
       "</style>\n",
       "<table border=\"1\" class=\"dataframe\">\n",
       "  <thead>\n",
       "    <tr style=\"text-align: right;\">\n",
       "      <th></th>\n",
       "      <th>a</th>\n",
       "      <th>__tune_df__df1</th>\n",
       "      <th>__tune_df__df2</th>\n",
       "      <th>__tune_trials__</th>\n",
       "    </tr>\n",
       "  </thead>\n",
       "  <tbody>\n",
       "    <tr>\n",
       "      <th>0</th>\n",
       "      <td>0</td>\n",
       "      <td>/tmp/01b823d6-2d65-43be-898d-ed4d5b1ab582.parquet</td>\n",
       "      <td>/tmp/5c35d480-6fa8-4776-a0f9-770974b73bb4.parquet</td>\n",
       "      <td>gASVYgEAAAAAAABdlIwYdHVuZS5jb25jZXB0cy5mbG93Ln...</td>\n",
       "    </tr>\n",
       "    <tr>\n",
       "      <th>1</th>\n",
       "      <td>0</td>\n",
       "      <td>/tmp/01b823d6-2d65-43be-898d-ed4d5b1ab582.parquet</td>\n",
       "      <td>/tmp/5c35d480-6fa8-4776-a0f9-770974b73bb4.parquet</td>\n",
       "      <td>gASVYgEAAAAAAABdlIwYdHVuZS5jb25jZXB0cy5mbG93Ln...</td>\n",
       "    </tr>\n",
       "    <tr>\n",
       "      <th>2</th>\n",
       "      <td>0</td>\n",
       "      <td>/tmp/01b823d6-2d65-43be-898d-ed4d5b1ab582.parquet</td>\n",
       "      <td>/tmp/5c35d480-6fa8-4776-a0f9-770974b73bb4.parquet</td>\n",
       "      <td>gASVYgEAAAAAAABdlIwYdHVuZS5jb25jZXB0cy5mbG93Ln...</td>\n",
       "    </tr>\n",
       "    <tr>\n",
       "      <th>3</th>\n",
       "      <td>1</td>\n",
       "      <td>/tmp/15f2ec83-3494-4ba8-80a5-fa7c558c273c.parquet</td>\n",
       "      <td>/tmp/2fe00d9c-b690-49c6-87a5-d365d59066c6.parquet</td>\n",
       "      <td>gASVYgEAAAAAAABdlIwYdHVuZS5jb25jZXB0cy5mbG93Ln...</td>\n",
       "    </tr>\n",
       "    <tr>\n",
       "      <th>4</th>\n",
       "      <td>1</td>\n",
       "      <td>/tmp/15f2ec83-3494-4ba8-80a5-fa7c558c273c.parquet</td>\n",
       "      <td>/tmp/2fe00d9c-b690-49c6-87a5-d365d59066c6.parquet</td>\n",
       "      <td>gASVYgEAAAAAAABdlIwYdHVuZS5jb25jZXB0cy5mbG93Ln...</td>\n",
       "    </tr>\n",
       "    <tr>\n",
       "      <th>5</th>\n",
       "      <td>1</td>\n",
       "      <td>/tmp/15f2ec83-3494-4ba8-80a5-fa7c558c273c.parquet</td>\n",
       "      <td>/tmp/2fe00d9c-b690-49c6-87a5-d365d59066c6.parquet</td>\n",
       "      <td>gASVYgEAAAAAAABdlIwYdHVuZS5jb25jZXB0cy5mbG93Ln...</td>\n",
       "    </tr>\n",
       "  </tbody>\n",
       "</table>\n",
       "</div>"
      ],
      "text/plain": [
       "   a                                     __tune_df__df1  \\\n",
       "0  0  /tmp/01b823d6-2d65-43be-898d-ed4d5b1ab582.parquet   \n",
       "1  0  /tmp/01b823d6-2d65-43be-898d-ed4d5b1ab582.parquet   \n",
       "2  0  /tmp/01b823d6-2d65-43be-898d-ed4d5b1ab582.parquet   \n",
       "3  1  /tmp/15f2ec83-3494-4ba8-80a5-fa7c558c273c.parquet   \n",
       "4  1  /tmp/15f2ec83-3494-4ba8-80a5-fa7c558c273c.parquet   \n",
       "5  1  /tmp/15f2ec83-3494-4ba8-80a5-fa7c558c273c.parquet   \n",
       "\n",
       "                                      __tune_df__df2  \\\n",
       "0  /tmp/5c35d480-6fa8-4776-a0f9-770974b73bb4.parquet   \n",
       "1  /tmp/5c35d480-6fa8-4776-a0f9-770974b73bb4.parquet   \n",
       "2  /tmp/5c35d480-6fa8-4776-a0f9-770974b73bb4.parquet   \n",
       "3  /tmp/2fe00d9c-b690-49c6-87a5-d365d59066c6.parquet   \n",
       "4  /tmp/2fe00d9c-b690-49c6-87a5-d365d59066c6.parquet   \n",
       "5  /tmp/2fe00d9c-b690-49c6-87a5-d365d59066c6.parquet   \n",
       "\n",
       "                                     __tune_trials__  \n",
       "0  gASVYgEAAAAAAABdlIwYdHVuZS5jb25jZXB0cy5mbG93Ln...  \n",
       "1  gASVYgEAAAAAAABdlIwYdHVuZS5jb25jZXB0cy5mbG93Ln...  \n",
       "2  gASVYgEAAAAAAABdlIwYdHVuZS5jb25jZXB0cy5mbG93Ln...  \n",
       "3  gASVYgEAAAAAAABdlIwYdHVuZS5jb25jZXB0cy5mbG93Ln...  \n",
       "4  gASVYgEAAAAAAABdlIwYdHVuZS5jb25jZXB0cy5mbG93Ln...  \n",
       "5  gASVYgEAAAAAAABdlIwYdHVuZS5jb25jZXB0cy5mbG93Ln...  "
      ]
     },
     "metadata": {}
    },
    {
     "output_type": "display_data",
     "data": {
      "text/html": [
       "<small>schema: a:long,__tune_df__df1:str,__tune_df__df2:str,__tune_trials__:str</small>"
      ],
      "text/plain": [
       "<IPython.core.display.HTML object>"
      ]
     },
     "metadata": {}
    },
    {
     "output_type": "display_data",
     "data": {
      "text/html": [
       "<div>\n",
       "<style scoped>\n",
       "    .dataframe tbody tr th:only-of-type {\n",
       "        vertical-align: middle;\n",
       "    }\n",
       "\n",
       "    .dataframe tbody tr th {\n",
       "        vertical-align: top;\n",
       "    }\n",
       "\n",
       "    .dataframe thead th {\n",
       "        text-align: right;\n",
       "    }\n",
       "</style>\n",
       "<table border=\"1\" class=\"dataframe\">\n",
       "  <thead>\n",
       "    <tr style=\"text-align: right;\">\n",
       "      <th></th>\n",
       "      <th>a</th>\n",
       "      <th>__tune_df__df1</th>\n",
       "      <th>__tune_df__df2</th>\n",
       "      <th>__tune_trials__</th>\n",
       "    </tr>\n",
       "  </thead>\n",
       "  <tbody>\n",
       "    <tr>\n",
       "      <th>0</th>\n",
       "      <td>0</td>\n",
       "      <td>/tmp/943302c8-2704-4b29-a2ac-64946352a90d.parquet</td>\n",
       "      <td>/tmp/9084e1ad-2156-4f3a-be36-52cf55d5c2fb.parquet</td>\n",
       "      <td>gASVYgEAAAAAAABdlIwYdHVuZS5jb25jZXB0cy5mbG93Ln...</td>\n",
       "    </tr>\n",
       "    <tr>\n",
       "      <th>1</th>\n",
       "      <td>0</td>\n",
       "      <td>/tmp/943302c8-2704-4b29-a2ac-64946352a90d.parquet</td>\n",
       "      <td>/tmp/9084e1ad-2156-4f3a-be36-52cf55d5c2fb.parquet</td>\n",
       "      <td>gASVYgEAAAAAAABdlIwYdHVuZS5jb25jZXB0cy5mbG93Ln...</td>\n",
       "    </tr>\n",
       "    <tr>\n",
       "      <th>2</th>\n",
       "      <td>0</td>\n",
       "      <td>/tmp/943302c8-2704-4b29-a2ac-64946352a90d.parquet</td>\n",
       "      <td>/tmp/9084e1ad-2156-4f3a-be36-52cf55d5c2fb.parquet</td>\n",
       "      <td>gASVYgEAAAAAAABdlIwYdHVuZS5jb25jZXB0cy5mbG93Ln...</td>\n",
       "    </tr>\n",
       "    <tr>\n",
       "      <th>3</th>\n",
       "      <td>1</td>\n",
       "      <td>/tmp/74fa6215-116d-4828-a49c-f58358a9b4e7.parquet</td>\n",
       "      <td>/tmp/0aa2aae2-3ab7-46e7-82e2-34a14ded2f0f.parquet</td>\n",
       "      <td>gASVYgEAAAAAAABdlIwYdHVuZS5jb25jZXB0cy5mbG93Ln...</td>\n",
       "    </tr>\n",
       "    <tr>\n",
       "      <th>4</th>\n",
       "      <td>1</td>\n",
       "      <td>/tmp/74fa6215-116d-4828-a49c-f58358a9b4e7.parquet</td>\n",
       "      <td>/tmp/0aa2aae2-3ab7-46e7-82e2-34a14ded2f0f.parquet</td>\n",
       "      <td>gASVYgEAAAAAAABdlIwYdHVuZS5jb25jZXB0cy5mbG93Ln...</td>\n",
       "    </tr>\n",
       "    <tr>\n",
       "      <th>5</th>\n",
       "      <td>1</td>\n",
       "      <td>/tmp/74fa6215-116d-4828-a49c-f58358a9b4e7.parquet</td>\n",
       "      <td>/tmp/0aa2aae2-3ab7-46e7-82e2-34a14ded2f0f.parquet</td>\n",
       "      <td>gASVYgEAAAAAAABdlIwYdHVuZS5jb25jZXB0cy5mbG93Ln...</td>\n",
       "    </tr>\n",
       "  </tbody>\n",
       "</table>\n",
       "</div>"
      ],
      "text/plain": [
       "   a                                     __tune_df__df1  \\\n",
       "0  0  /tmp/943302c8-2704-4b29-a2ac-64946352a90d.parquet   \n",
       "1  0  /tmp/943302c8-2704-4b29-a2ac-64946352a90d.parquet   \n",
       "2  0  /tmp/943302c8-2704-4b29-a2ac-64946352a90d.parquet   \n",
       "3  1  /tmp/74fa6215-116d-4828-a49c-f58358a9b4e7.parquet   \n",
       "4  1  /tmp/74fa6215-116d-4828-a49c-f58358a9b4e7.parquet   \n",
       "5  1  /tmp/74fa6215-116d-4828-a49c-f58358a9b4e7.parquet   \n",
       "\n",
       "                                      __tune_df__df2  \\\n",
       "0  /tmp/9084e1ad-2156-4f3a-be36-52cf55d5c2fb.parquet   \n",
       "1  /tmp/9084e1ad-2156-4f3a-be36-52cf55d5c2fb.parquet   \n",
       "2  /tmp/9084e1ad-2156-4f3a-be36-52cf55d5c2fb.parquet   \n",
       "3  /tmp/0aa2aae2-3ab7-46e7-82e2-34a14ded2f0f.parquet   \n",
       "4  /tmp/0aa2aae2-3ab7-46e7-82e2-34a14ded2f0f.parquet   \n",
       "5  /tmp/0aa2aae2-3ab7-46e7-82e2-34a14ded2f0f.parquet   \n",
       "\n",
       "                                     __tune_trials__  \n",
       "0  gASVYgEAAAAAAABdlIwYdHVuZS5jb25jZXB0cy5mbG93Ln...  \n",
       "1  gASVYgEAAAAAAABdlIwYdHVuZS5jb25jZXB0cy5mbG93Ln...  \n",
       "2  gASVYgEAAAAAAABdlIwYdHVuZS5jb25jZXB0cy5mbG93Ln...  \n",
       "3  gASVYgEAAAAAAABdlIwYdHVuZS5jb25jZXB0cy5mbG93Ln...  \n",
       "4  gASVYgEAAAAAAABdlIwYdHVuZS5jb25jZXB0cy5mbG93Ln...  \n",
       "5  gASVYgEAAAAAAABdlIwYdHVuZS5jb25jZXB0cy5mbG93Ln...  "
      ]
     },
     "metadata": {}
    },
    {
     "output_type": "display_data",
     "data": {
      "text/html": [
       "<small>schema: a:long,__tune_df__df1:str,__tune_df__df2:str,__tune_trials__:str</small>"
      ],
      "text/plain": [
       "<IPython.core.display.HTML object>"
      ]
     },
     "metadata": {}
    }
   ],
   "metadata": {}
  },
  {
   "cell_type": "markdown",
   "source": [
    "We got 6 rows, because the space will contain 3 configurations. And since for the dataframes, we partitioned by `a` and inner joined, there will be 2 rows. So in total there are 6 rows in the `TuneDataset`.\n",
    "\n",
    "**Notice, the number of rows of TuneDataset determines max parallelism.** For this case, if you assign 10 workers, 4 will always be idle.\n",
    "\n",
    "Actually, a more common case is that for each of the dataframe, we don't partition at all. For `TUNE_OBJECT_FACTORY.make_dataset` we just need to remove the `partition_keys`."
   ],
   "metadata": {}
  },
  {
   "cell_type": "code",
   "execution_count": 4,
   "source": [
    "with FugueWorkflow() as dag:\n",
    "    dataset = TUNE_OBJECT_FACTORY.make_dataset(\n",
    "        dag, space,\n",
    "        df_name=\"df1\", df=pdf1,\n",
    "        test_df_name=\"df2\", test_df=pdf2,\n",
    "    )\n",
    "    dataset.data.show();"
   ],
   "outputs": [
    {
     "output_type": "display_data",
     "data": {
      "text/html": [
       "<div>\n",
       "<style scoped>\n",
       "    .dataframe tbody tr th:only-of-type {\n",
       "        vertical-align: middle;\n",
       "    }\n",
       "\n",
       "    .dataframe tbody tr th {\n",
       "        vertical-align: top;\n",
       "    }\n",
       "\n",
       "    .dataframe thead th {\n",
       "        text-align: right;\n",
       "    }\n",
       "</style>\n",
       "<table border=\"1\" class=\"dataframe\">\n",
       "  <thead>\n",
       "    <tr style=\"text-align: right;\">\n",
       "      <th></th>\n",
       "      <th>__tune_df__df1</th>\n",
       "      <th>__tune_df__df2</th>\n",
       "      <th>__tune_trials__</th>\n",
       "    </tr>\n",
       "  </thead>\n",
       "  <tbody>\n",
       "    <tr>\n",
       "      <th>0</th>\n",
       "      <td>/tmp/a774965e-d0df-417c-84d0-bb693ac337d1.parquet</td>\n",
       "      <td>/tmp/2f9a93cd-121b-4697-8fe9-0513aa6bcd82.parquet</td>\n",
       "      <td>gASVXwEAAAAAAABdlIwYdHVuZS5jb25jZXB0cy5mbG93Ln...</td>\n",
       "    </tr>\n",
       "    <tr>\n",
       "      <th>1</th>\n",
       "      <td>/tmp/a774965e-d0df-417c-84d0-bb693ac337d1.parquet</td>\n",
       "      <td>/tmp/2f9a93cd-121b-4697-8fe9-0513aa6bcd82.parquet</td>\n",
       "      <td>gASVXwEAAAAAAABdlIwYdHVuZS5jb25jZXB0cy5mbG93Ln...</td>\n",
       "    </tr>\n",
       "    <tr>\n",
       "      <th>2</th>\n",
       "      <td>/tmp/a774965e-d0df-417c-84d0-bb693ac337d1.parquet</td>\n",
       "      <td>/tmp/2f9a93cd-121b-4697-8fe9-0513aa6bcd82.parquet</td>\n",
       "      <td>gASVXwEAAAAAAABdlIwYdHVuZS5jb25jZXB0cy5mbG93Ln...</td>\n",
       "    </tr>\n",
       "  </tbody>\n",
       "</table>\n",
       "</div>"
      ],
      "text/plain": [
       "                                      __tune_df__df1  \\\n",
       "0  /tmp/a774965e-d0df-417c-84d0-bb693ac337d1.parquet   \n",
       "1  /tmp/a774965e-d0df-417c-84d0-bb693ac337d1.parquet   \n",
       "2  /tmp/a774965e-d0df-417c-84d0-bb693ac337d1.parquet   \n",
       "\n",
       "                                      __tune_df__df2  \\\n",
       "0  /tmp/2f9a93cd-121b-4697-8fe9-0513aa6bcd82.parquet   \n",
       "1  /tmp/2f9a93cd-121b-4697-8fe9-0513aa6bcd82.parquet   \n",
       "2  /tmp/2f9a93cd-121b-4697-8fe9-0513aa6bcd82.parquet   \n",
       "\n",
       "                                     __tune_trials__  \n",
       "0  gASVXwEAAAAAAABdlIwYdHVuZS5jb25jZXB0cy5mbG93Ln...  \n",
       "1  gASVXwEAAAAAAABdlIwYdHVuZS5jb25jZXB0cy5mbG93Ln...  \n",
       "2  gASVXwEAAAAAAABdlIwYdHVuZS5jb25jZXB0cy5mbG93Ln...  "
      ]
     },
     "metadata": {}
    },
    {
     "output_type": "display_data",
     "data": {
      "text/html": [
       "<small>schema: __tune_df__df1:str,__tune_df__df2:str,__tune_trials__:str</small>"
      ],
      "text/plain": [
       "<IPython.core.display.HTML object>"
      ]
     },
     "metadata": {}
    }
   ],
   "metadata": {}
  },
  {
   "cell_type": "markdown",
   "source": [
    "But what if we want to partition on `df1` but not on `df2`? Then again, you can use `TuneDatasetBuilder`"
   ],
   "metadata": {}
  },
  {
   "cell_type": "code",
   "execution_count": 5,
   "source": [
    "with FugueWorkflow() as dag:\n",
    "    builder = TuneDatasetBuilder(space, path=\"/tmp\")\n",
    "    builder.add_df(\"df1\", dag.df(pdf1).partition_by(\"a\"))\n",
    "    # use cross join because there no common key\n",
    "    builder.add_df(\"df2\", dag.df(pdf2), how=\"cross\")  \n",
    "    dataset = builder.build(dag)\n",
    "    dataset.data.show();"
   ],
   "outputs": [
    {
     "output_type": "display_data",
     "data": {
      "text/html": [
       "<div>\n",
       "<style scoped>\n",
       "    .dataframe tbody tr th:only-of-type {\n",
       "        vertical-align: middle;\n",
       "    }\n",
       "\n",
       "    .dataframe tbody tr th {\n",
       "        vertical-align: top;\n",
       "    }\n",
       "\n",
       "    .dataframe thead th {\n",
       "        text-align: right;\n",
       "    }\n",
       "</style>\n",
       "<table border=\"1\" class=\"dataframe\">\n",
       "  <thead>\n",
       "    <tr style=\"text-align: right;\">\n",
       "      <th></th>\n",
       "      <th>a</th>\n",
       "      <th>__tune_df__df1</th>\n",
       "      <th>__tune_df__df2</th>\n",
       "      <th>__tune_trials__</th>\n",
       "    </tr>\n",
       "  </thead>\n",
       "  <tbody>\n",
       "    <tr>\n",
       "      <th>0</th>\n",
       "      <td>0</td>\n",
       "      <td>/tmp/4e16f5d7-1dc2-438c-86c7-504502c3e1ad.parquet</td>\n",
       "      <td>/tmp/3b92a6f2-31aa-485e-a608-58dcdc925a3c.parquet</td>\n",
       "      <td>gASVYgEAAAAAAABdlIwYdHVuZS5jb25jZXB0cy5mbG93Ln...</td>\n",
       "    </tr>\n",
       "    <tr>\n",
       "      <th>1</th>\n",
       "      <td>0</td>\n",
       "      <td>/tmp/4e16f5d7-1dc2-438c-86c7-504502c3e1ad.parquet</td>\n",
       "      <td>/tmp/3b92a6f2-31aa-485e-a608-58dcdc925a3c.parquet</td>\n",
       "      <td>gASVYgEAAAAAAABdlIwYdHVuZS5jb25jZXB0cy5mbG93Ln...</td>\n",
       "    </tr>\n",
       "    <tr>\n",
       "      <th>2</th>\n",
       "      <td>0</td>\n",
       "      <td>/tmp/4e16f5d7-1dc2-438c-86c7-504502c3e1ad.parquet</td>\n",
       "      <td>/tmp/3b92a6f2-31aa-485e-a608-58dcdc925a3c.parquet</td>\n",
       "      <td>gASVYgEAAAAAAABdlIwYdHVuZS5jb25jZXB0cy5mbG93Ln...</td>\n",
       "    </tr>\n",
       "    <tr>\n",
       "      <th>3</th>\n",
       "      <td>1</td>\n",
       "      <td>/tmp/058862d5-4c24-437e-ae38-c4810d071a11.parquet</td>\n",
       "      <td>/tmp/3b92a6f2-31aa-485e-a608-58dcdc925a3c.parquet</td>\n",
       "      <td>gASVYgEAAAAAAABdlIwYdHVuZS5jb25jZXB0cy5mbG93Ln...</td>\n",
       "    </tr>\n",
       "    <tr>\n",
       "      <th>4</th>\n",
       "      <td>1</td>\n",
       "      <td>/tmp/058862d5-4c24-437e-ae38-c4810d071a11.parquet</td>\n",
       "      <td>/tmp/3b92a6f2-31aa-485e-a608-58dcdc925a3c.parquet</td>\n",
       "      <td>gASVYgEAAAAAAABdlIwYdHVuZS5jb25jZXB0cy5mbG93Ln...</td>\n",
       "    </tr>\n",
       "    <tr>\n",
       "      <th>5</th>\n",
       "      <td>1</td>\n",
       "      <td>/tmp/058862d5-4c24-437e-ae38-c4810d071a11.parquet</td>\n",
       "      <td>/tmp/3b92a6f2-31aa-485e-a608-58dcdc925a3c.parquet</td>\n",
       "      <td>gASVYgEAAAAAAABdlIwYdHVuZS5jb25jZXB0cy5mbG93Ln...</td>\n",
       "    </tr>\n",
       "  </tbody>\n",
       "</table>\n",
       "</div>"
      ],
      "text/plain": [
       "   a                                     __tune_df__df1  \\\n",
       "0  0  /tmp/4e16f5d7-1dc2-438c-86c7-504502c3e1ad.parquet   \n",
       "1  0  /tmp/4e16f5d7-1dc2-438c-86c7-504502c3e1ad.parquet   \n",
       "2  0  /tmp/4e16f5d7-1dc2-438c-86c7-504502c3e1ad.parquet   \n",
       "3  1  /tmp/058862d5-4c24-437e-ae38-c4810d071a11.parquet   \n",
       "4  1  /tmp/058862d5-4c24-437e-ae38-c4810d071a11.parquet   \n",
       "5  1  /tmp/058862d5-4c24-437e-ae38-c4810d071a11.parquet   \n",
       "\n",
       "                                      __tune_df__df2  \\\n",
       "0  /tmp/3b92a6f2-31aa-485e-a608-58dcdc925a3c.parquet   \n",
       "1  /tmp/3b92a6f2-31aa-485e-a608-58dcdc925a3c.parquet   \n",
       "2  /tmp/3b92a6f2-31aa-485e-a608-58dcdc925a3c.parquet   \n",
       "3  /tmp/3b92a6f2-31aa-485e-a608-58dcdc925a3c.parquet   \n",
       "4  /tmp/3b92a6f2-31aa-485e-a608-58dcdc925a3c.parquet   \n",
       "5  /tmp/3b92a6f2-31aa-485e-a608-58dcdc925a3c.parquet   \n",
       "\n",
       "                                     __tune_trials__  \n",
       "0  gASVYgEAAAAAAABdlIwYdHVuZS5jb25jZXB0cy5mbG93Ln...  \n",
       "1  gASVYgEAAAAAAABdlIwYdHVuZS5jb25jZXB0cy5mbG93Ln...  \n",
       "2  gASVYgEAAAAAAABdlIwYdHVuZS5jb25jZXB0cy5mbG93Ln...  \n",
       "3  gASVYgEAAAAAAABdlIwYdHVuZS5jb25jZXB0cy5mbG93Ln...  \n",
       "4  gASVYgEAAAAAAABdlIwYdHVuZS5jb25jZXB0cy5mbG93Ln...  \n",
       "5  gASVYgEAAAAAAABdlIwYdHVuZS5jb25jZXB0cy5mbG93Ln...  "
      ]
     },
     "metadata": {}
    },
    {
     "output_type": "display_data",
     "data": {
      "text/html": [
       "<small>schema: a:long,__tune_df__df1:str,__tune_df__df2:str,__tune_trials__:str</small>"
      ],
      "text/plain": [
       "<IPython.core.display.HTML object>"
      ]
     },
     "metadata": {}
    }
   ],
   "metadata": {}
  },
  {
   "cell_type": "code",
   "execution_count": null,
   "source": [],
   "outputs": [],
   "metadata": {}
  }
 ]
}