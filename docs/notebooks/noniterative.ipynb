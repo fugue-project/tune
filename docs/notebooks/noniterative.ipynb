{
 "metadata": {
  "language_info": {
   "codemirror_mode": {
    "name": "ipython",
    "version": 3
   },
   "file_extension": ".py",
   "mimetype": "text/x-python",
   "name": "python",
   "nbconvert_exporter": "python",
   "pygments_lexer": "ipython3",
   "version": "3.7.9"
  },
  "orig_nbformat": 2,
  "kernelspec": {
   "name": "python3",
   "display_name": "Python 3.7.9 64-bit"
  },
  "interpreter": {
   "hash": "4cd7ab41f5fca4b9b44701077e38c5ffd31fe66a6cab21e0214b68d958d0e462"
  }
 },
 "nbformat": 4,
 "nbformat_minor": 2,
 "cells": [
  {
   "cell_type": "markdown",
   "source": [
    "# Non-Iterative Tuning Guide\n",
    "\n",
    "## Hello World\n",
    "\n",
    "Let's do a hybrid parameter tuning with grid search + random search, and run it distributedly"
   ],
   "metadata": {}
  },
  {
   "cell_type": "code",
   "execution_count": 1,
   "source": [
    "def objective(a, b) -> float:\n",
    "    return a**2 + b**2"
   ],
   "outputs": [],
   "metadata": {}
  },
  {
   "cell_type": "code",
   "execution_count": 2,
   "source": [
    "from tune import Space, Grid, Rand, RandInt, Choice\n",
    "\n",
    "space = Space(a=Grid(-1,0,1), b=Rand(-10,10)).sample(100, seed=0)"
   ],
   "outputs": [],
   "metadata": {}
  },
  {
   "cell_type": "code",
   "execution_count": 4,
   "source": [
    "from tune import suggest_for_noniterative_objective\n",
    "\n",
    "result = suggest_for_noniterative_objective(objective, space, top_n=1)[0]\n",
    "print(result.sort_metric, result)"
   ],
   "outputs": [
    {
     "output_type": "stream",
     "name": "stderr",
     "text": [
      "NativeExecutionEngine doesn't respect num_partitions ROWCOUNT\n"
     ]
    },
    {
     "output_type": "stream",
     "name": "stdout",
     "text": [
      "0.1909396653178624 {'trial': {'trial_id': '58c94f4f-011e-53da-a85b-7e696ced6600', 'params': {'a': 0, 'b': 0.43696643500143395}, 'metadata': {}, 'keys': []}, 'metric': 0.1909396653178624, 'params': {'a': 0, 'b': 0.43696643500143395}, 'metadata': {}, 'cost': 1.0, 'rung': 0, 'sort_metric': 0.1909396653178624, 'log_time': datetime.datetime(2021, 10, 6, 23, 35, 53, 24547)}\n"
     ]
    }
   ],
   "metadata": {}
  },
  {
   "cell_type": "markdown",
   "source": [
    "Now run it distributedly, let's use dask as as the example"
   ],
   "metadata": {}
  },
  {
   "cell_type": "code",
   "execution_count": 6,
   "source": [
    "from fugue_dask import DaskExecutionEngine\n",
    "\n",
    "result = suggest_for_noniterative_objective(\n",
    "    objective, space, top_n=1,\n",
    "    execution_engine = DaskExecutionEngine\n",
    ")[0]\n",
    "\n",
    "print(result.sort_metric, result)"
   ],
   "outputs": [
    {
     "output_type": "stream",
     "name": "stdout",
     "text": [
      "0.1909396653178624 {'trial': {'trial_id': '58c94f4f-011e-53da-a85b-7e696ced6600', 'params': {'a': 0, 'b': 0.43696643500143395}, 'metadata': {}, 'keys': []}, 'metric': 0.1909396653178624, 'params': {'a': 0, 'b': 0.43696643500143395}, 'metadata': {}, 'cost': 1.0, 'rung': 0, 'sort_metric': 0.1909396653178624, 'log_time': datetime.datetime(2021, 10, 6, 23, 36, 16, 996725)}\n"
     ]
    }
   ],
   "metadata": {}
  },
  {
   "cell_type": "markdown",
   "source": [
    "In order to use `tune` in a more elegant and easier way, let's firstly see how to configure the system.\n",
    "\n",
    "## Configuration\n",
    "\n",
    "Configuring the system is not necessary but it has great benefit for simpifying your following works.\n",
    "\n",
    "`suggest_for_noniterative_objective` and `optimize_noniterative` have a lot of parameters due to the complexity of tuning operations. But `tune` let you do global configuration so you don't need to repeat the same configuration for every tuning task.\n",
    "\n",
    "### Customize Optimizer Converter"
   ],
   "metadata": {}
  },
  {
   "cell_type": "code",
   "execution_count": 7,
   "source": [
    "from tune import TUNE_OBJECT_FACTORY\n",
    "from tune import NonIterativeObjectiveLocalOptimizer\n",
    "from tune_hyperopt import HyperoptLocalOptimizer\n",
    "from tune_optuna import OptunaLocalOptimizer\n",
    "import optuna\n",
    "\n",
    "optuna.logging.disable_default_handler()\n",
    "\n",
    "def to_optimizer(obj):\n",
    "    if isinstance(obj, NonIterativeObjectiveLocalOptimizer):\n",
    "        return obj\n",
    "    if obj is None or \"hyperopt\"==obj:\n",
    "        return HyperoptLocalOptimizer(max_iter=20, seed=0)\n",
    "    if \"optuna\" == obj:\n",
    "        return OptunaLocalOptimizer(max_iter=20)\n",
    "    raise NotImplementedError\n",
    "\n",
    "# make default level 2 optimizer HyperoptLocalOptimizer, so you will not need to set again\n",
    "TUNE_OBJECT_FACTORY.set_noniterative_local_optimizer_converter(to_optimizer)"
   ],
   "outputs": [],
   "metadata": {}
  },
  {
   "cell_type": "markdown",
   "source": [
    "### Customize Monitor\n",
    "\n",
    "Monitor is to collect and render information in real time, there are builtin monitors, you can also create your own."
   ],
   "metadata": {}
  },
  {
   "cell_type": "code",
   "execution_count": 9,
   "source": [
    "from typing import Optional\n",
    "\n",
    "from tune import TUNE_OBJECT_FACTORY\n",
    "from tune import Monitor\n",
    "from tune_notebook import (\n",
    "    NotebookSimpleHist,\n",
    "    NotebookSimpleRungs,\n",
    "    NotebookSimpleTimeSeries,\n",
    "    PrintBest,\n",
    ")\n",
    "\n",
    "def to_monitor(obj) -> Optional[Monitor]:\n",
    "    if obj is None:\n",
    "        return None\n",
    "    if isinstance(obj, Monitor):\n",
    "        return obj\n",
    "    if isinstance(obj, str):\n",
    "        if obj == \"hist\":\n",
    "            return NotebookSimpleHist()\n",
    "        if obj == \"rungs\":\n",
    "            return NotebookSimpleRungs()\n",
    "        if obj == \"ts\":\n",
    "            return NotebookSimpleTimeSeries()\n",
    "        if obj == \"text\":\n",
    "            return PrintBest()\n",
    "    raise NotImplementedError(obj)\n",
    "\n",
    "TUNE_OBJECT_FACTORY.set_monitor_converter(to_monitor)"
   ],
   "outputs": [],
   "metadata": {}
  },
  {
   "cell_type": "markdown",
   "source": [
    "### Set Temp Path For Tuning\n",
    "\n",
    "Temp path can be used to store serialized partitions or checkpoints. Most top level API usage requires a valid temporary path. We can use factory method to set a global value.\n",
    "\n",
    "Notice if you want to tune distributedly, you should set the path to a distributed file system, for example s3."
   ],
   "metadata": {}
  },
  {
   "cell_type": "code",
   "execution_count": 10,
   "source": [
    "TUNE_OBJECT_FACTORY.set_temp_path(\"/tmp\")"
   ],
   "outputs": [],
   "metadata": {}
  },
  {
   "cell_type": "markdown",
   "source": [
    "## Tuning Examples\n",
    "\n",
    "Sometimes, your objective function requires a input dataframe. There are two ways to use dataframes in general:\n",
    "\n",
    "| | **Pros** | **Cons** |\n",
    "| ---|---|---|\n",
    "| **Take them as real dataframes, <br>for example pandas dataframes.** | Simple and intuitive | Either the datas ize can't scale or you have to <br>couple with a distributed solution such as Spark |\n",
    "| **Take them from parameters, <br>for example paths as parameters.** | You have the full control how and when and whether <br>to load the data. More scalable. | More code to make it work |\n",
    "\n",
    "In general, the second way is a better idea. But if your case can fit in the first scenario, then `tune` has a simple solution letting you take the pandas dataframes as input."
   ],
   "metadata": {}
  },
  {
   "cell_type": "code",
   "execution_count": 11,
   "source": [
    "from sklearn.datasets import load_diabetes\n",
    "from sklearn.model_selection import cross_val_score\n",
    "from sklearn.ensemble import RandomForestRegressor\n",
    "import pandas as pd\n",
    "import numpy as np\n",
    "\n",
    "diabetes = load_diabetes(as_frame=True)[\"frame\"]\n",
    "\n",
    "def evaluate(train_df:pd.DataFrame, **kwargs) -> float:\n",
    "    x, y = train_df.drop(\"target\", axis=1), train_df[\"target\"]\n",
    "    model = RandomForestRegressor(**kwargs)\n",
    "    # pay attention here, score is larger better so we return the negative value\n",
    "    return -np.mean(cross_val_score(model, x, y, scoring=\"neg_mean_absolute_error\", cv=4))\n",
    "\n",
    "evaluate(diabetes)\n"
   ],
   "outputs": [
    {
     "output_type": "execute_result",
     "data": {
      "text/plain": [
       "46.646344389844394"
      ]
     },
     "metadata": {},
     "execution_count": 11
    }
   ],
   "metadata": {}
  },
  {
   "cell_type": "markdown",
   "source": [
    "With the given `diabetes` dataset and the objective function `evaluate` let's tune it in different ways\n",
    "\n",
    "### Hybrid Tuning"
   ],
   "metadata": {}
  },
  {
   "cell_type": "code",
   "execution_count": 13,
   "source": [
    "# Grid search only\n",
    "space = Space(n_estimators=Grid(100,200), random_state=0)\n",
    "\n",
    "result = suggest_for_noniterative_objective(\n",
    "    evaluate, space, top_n=1,\n",
    "    df = diabetes, df_name = \"train_df\"\n",
    ")[0]\n",
    "\n",
    "print(result.sort_metric, result)"
   ],
   "outputs": [
    {
     "output_type": "stream",
     "name": "stderr",
     "text": [
      "NativeExecutionEngine doesn't respect num_partitions ROWCOUNT\n"
     ]
    },
    {
     "output_type": "stream",
     "name": "stdout",
     "text": [
      "46.63103787878788 {'trial': {'trial_id': '5d719fa7-9537-58b1-86cd-fa69a4e75272', 'params': {'n_estimators': 100, 'random_state': 0}, 'metadata': {}, 'keys': []}, 'metric': 46.63103787878788, 'params': {'n_estimators': 100, 'random_state': 0}, 'metadata': {}, 'cost': 1.0, 'rung': 0, 'sort_metric': 46.63103787878788, 'log_time': datetime.datetime(2021, 10, 6, 23, 37, 11, 450017)}\n"
     ]
    }
   ],
   "metadata": {}
  },
  {
   "cell_type": "code",
   "execution_count": 14,
   "source": [
    "# grid + random\n",
    "space = Space(n_estimators=Grid(100,200), max_depth=RandInt(2,10), random_state=0).sample(3, seed=0)\n",
    "\n",
    "result = suggest_for_noniterative_objective(\n",
    "    evaluate, space, top_n=1,\n",
    "    df = diabetes, df_name = \"train_df\"\n",
    ")[0]\n",
    "\n",
    "print(result.sort_metric, result)"
   ],
   "outputs": [
    {
     "output_type": "stream",
     "name": "stderr",
     "text": [
      "NativeExecutionEngine doesn't respect num_partitions ROWCOUNT\n"
     ]
    },
    {
     "output_type": "stream",
     "name": "stdout",
     "text": [
      "46.52677715635581 {'trial': {'trial_id': '0a53519f-576b-5a9f-8ef9-4a7e7f69de1a', 'params': {'n_estimators': 200, 'max_depth': 6, 'random_state': 0}, 'metadata': {}, 'keys': []}, 'metric': 46.52677715635581, 'params': {'n_estimators': 200, 'max_depth': 6, 'random_state': 0}, 'metadata': {}, 'cost': 1.0, 'rung': 0, 'sort_metric': 46.52677715635581, 'log_time': datetime.datetime(2021, 10, 6, 23, 37, 26, 492058)}\n"
     ]
    }
   ],
   "metadata": {}
  },
  {
   "cell_type": "code",
   "execution_count": 16,
   "source": [
    "# random + bayesian optimization (hyperopt is used by default)\n",
    "space = Space(n_estimators=RandInt(50,200))* Space(max_depth=RandInt(2,10), random_state=0).sample(2, seed=0)\n",
    "\n",
    "result = suggest_for_noniterative_objective(\n",
    "    evaluate, space, top_n=1,\n",
    "    df = diabetes, df_name = \"train_df\"\n",
    ")[0]\n",
    "\n",
    "print(result.sort_metric, result)\n",
    "\n",
    "result = suggest_for_noniterative_objective(\n",
    "    evaluate, space, top_n=1,\n",
    "    df = diabetes, df_name = \"train_df\",\n",
    "    local_optimizer=\"optuna\" # switch to optuna for bayesian optimization\n",
    ")[0]\n",
    "\n",
    "print(result.sort_metric, result)"
   ],
   "outputs": [
    {
     "output_type": "stream",
     "name": "stderr",
     "text": [
      "NativeExecutionEngine doesn't respect num_partitions ROWCOUNT\n",
      "NativeExecutionEngine doesn't respect num_partitions ROWCOUNT\n"
     ]
    },
    {
     "output_type": "stream",
     "name": "stdout",
     "text": [
      "46.419699856089416 {'trial': {'trial_id': '52919031-4f17-58d2-8cfc-e4a1d0e4555a', 'params': {'n_estimators': 175, 'max_depth': 6, 'random_state': 0}, 'metadata': {}, 'keys': []}, 'metric': 46.419699856089416, 'params': {'n_estimators': 175, 'max_depth': 6, 'random_state': 0}, 'metadata': {}, 'cost': 1.0, 'rung': 0, 'sort_metric': 46.419699856089416, 'log_time': datetime.datetime(2021, 10, 6, 23, 38, 37, 355059)}\n",
      "46.41622613826187 {'trial': {'trial_id': '52919031-4f17-58d2-8cfc-e4a1d0e4555a', 'params': {'n_estimators': 176, 'max_depth': 6, 'random_state': 0}, 'metadata': {}, 'keys': []}, 'metric': 46.41622613826187, 'params': {'n_estimators': 176, 'max_depth': 6, 'random_state': 0}, 'metadata': {}, 'cost': 1.0, 'rung': 0, 'sort_metric': 46.41622613826187, 'log_time': datetime.datetime(2021, 10, 6, 23, 39, 9, 442020)}\n"
     ]
    }
   ],
   "metadata": {}
  },
  {
   "cell_type": "markdown",
   "source": [
    "### Partition And Train And Tune\n",
    "\n",
    "This is a very important feature of `tune`. Sometimes, partitioning the data and train and tune small independent models separately can generate better result. This is not necessarily true, but at least we make it very simple for you to try. You only need to specify `partition_keys`. And with a distributed engine, all independent tasks are fully parallelized."
   ],
   "metadata": {}
  },
  {
   "cell_type": "code",
   "execution_count": 17,
   "source": [
    "space = Space(n_estimators=Grid(50,200), max_depth=RandInt(2,10), random_state=0).sample(2, seed=0)\n",
    "\n",
    "result = suggest_for_noniterative_objective(\n",
    "    evaluate, space, top_n=1,\n",
    "    df = diabetes, df_name = \"train_df\",\n",
    "    partition_keys = [\"sex\"]  # for male and females, we train and tune separately\n",
    ")\n",
    "\n",
    "for r in result:\n",
    "    print(r.trial.keys, r.sort_metric, r)"
   ],
   "outputs": [
    {
     "output_type": "stream",
     "name": "stderr",
     "text": [
      "NativeExecutionEngine doesn't respect num_partitions ROWCOUNT\n"
     ]
    },
    {
     "output_type": "stream",
     "name": "stdout",
     "text": [
      "[0.0506801187398187] 42.48208345425722 {'trial': {'trial_id': '83f593dd-a3a2-5ac0-b389-ee19f8cc1134', 'params': {'n_estimators': 200, 'max_depth': 8, 'random_state': 0}, 'metadata': {}, 'keys': [0.0506801187398187]}, 'metric': 42.48208345425722, 'params': {'n_estimators': 200, 'max_depth': 8, 'random_state': 0}, 'metadata': {}, 'cost': 1.0, 'rung': 0, 'sort_metric': 42.48208345425722, 'log_time': datetime.datetime(2021, 10, 6, 23, 40, 38, 579320)}\n",
      "[-0.044641636506989] 46.66399292343497 {'trial': {'trial_id': '1759366d-de55-5418-b1b5-48cf91f529a0', 'params': {'n_estimators': 50, 'max_depth': 8, 'random_state': 0}, 'metadata': {}, 'keys': [-0.044641636506989]}, 'metric': 46.66399292343497, 'params': {'n_estimators': 50, 'max_depth': 8, 'random_state': 0}, 'metadata': {}, 'cost': 1.0, 'rung': 0, 'sort_metric': 46.66399292343497, 'log_time': datetime.datetime(2021, 10, 6, 23, 40, 33, 356186)}\n"
     ]
    }
   ],
   "metadata": {}
  },
  {
   "cell_type": "markdown",
   "source": [
    "### Distributed Tuning\n",
    "\n",
    "`tune` is based on Fugue so it can run seamlessly using all Fugue supported execution engines and in the same way Fugue uses them."
   ],
   "metadata": {}
  },
  {
   "cell_type": "code",
   "execution_count": 18,
   "source": [
    "# This space is a combination of grid and random search\n",
    "# all level 1 searches, so it can be fully distributed\n",
    "space = Space(n_estimators=Grid(50,200), max_depth=RandInt(2,10), random_state=0).sample(2, seed=0)\n",
    "\n",
    "result = suggest_for_noniterative_objective(\n",
    "    evaluate, space, top_n=1,\n",
    "    df = diabetes, df_name = \"train_df\",\n",
    "    partition_keys = [\"sex\"],\n",
    "    execution_engine = DaskExecutionEngine  # this makes the tuning process distributed\n",
    ")\n",
    "\n",
    "for r in result:\n",
    "    print(r.trial.keys, r.sort_metric, r)"
   ],
   "outputs": [
    {
     "output_type": "stream",
     "name": "stdout",
     "text": [
      "[0.0506801187398187] 42.79742975473356 {'trial': {'trial_id': '0f2053de-71b2-514d-b4ff-8495b93a042b', 'params': {'n_estimators': 200, 'max_depth': 6, 'random_state': 0}, 'metadata': {}, 'keys': [0.0506801187398187]}, 'metric': 42.79742975473356, 'params': {'n_estimators': 200, 'max_depth': 6, 'random_state': 0}, 'metadata': {}, 'cost': 1.0, 'rung': 0, 'sort_metric': 42.79742975473356, 'log_time': datetime.datetime(2021, 10, 6, 23, 40, 57, 795165)}\n",
      "[-0.044641636506989] 47.480845528260254 {'trial': {'trial_id': '46da77b5-089d-57b9-8036-0ca2e3646fdb', 'params': {'n_estimators': 200, 'max_depth': 6, 'random_state': 0}, 'metadata': {}, 'keys': [-0.044641636506989]}, 'metric': 47.480845528260254, 'params': {'n_estimators': 200, 'max_depth': 6, 'random_state': 0}, 'metadata': {}, 'cost': 1.0, 'rung': 0, 'sort_metric': 47.480845528260254, 'log_time': datetime.datetime(2021, 10, 6, 23, 41, 0, 714602)}\n"
     ]
    }
   ],
   "metadata": {}
  },
  {
   "cell_type": "markdown",
   "source": [
    "## Realtime Monitoring\n",
    "\n",
    "Fugue framework can let workers communicate with driver in realtime (see [this](https://fugue-tutorials.readthedocs.io/en/latest/tutorials/rpc.html)). So `tune` leverages this feature for monitoring and iterative problems.\n",
    "\n"
   ],
   "metadata": {}
  },
  {
   "cell_type": "code",
   "execution_count": 19,
   "source": [
    "space = Space(n_estimators=RandInt(1,20), max_depth=RandInt(2,10), random_state=0).sample(100, seed=0)\n",
    "\n",
    "result = suggest_for_noniterative_objective(\n",
    "    evaluate, space, top_n=1,\n",
    "    df = diabetes, df_name = \"train_df\",\n",
    "    monitor=\"ts\"\n",
    ")\n",
    "\n",
    "for r in result:\n",
    "    print(r.trial.keys, r.sort_metric, r)"
   ],
   "outputs": [
    {
     "output_type": "display_data",
     "data": {
      "image/png": "[encoded data removed]",
      "text/plain": [
       "<Figure size 432x288 with 1 Axes>"
      ]
     },
     "metadata": {
      "needs_background": "light"
     }
    },
    {
     "output_type": "stream",
     "name": "stdout",
     "text": [
      "[] 46.84555314021837 {'trial': {'trial_id': '2c9456ad-f8a7-56df-9195-3266ffabd941', 'params': {'n_estimators': 20, 'max_depth': 3, 'random_state': 0}, 'metadata': {}, 'keys': []}, 'metric': 46.84555314021837, 'params': {'n_estimators': 20, 'max_depth': 3, 'random_state': 0}, 'metadata': {}, 'cost': 1.0, 'rung': 0, 'sort_metric': 46.84555314021837, 'log_time': datetime.datetime(2021, 10, 6, 23, 41, 19, 488640)}\n",
      "[] 46.84555314021837 {'trial': {'trial_id': '2c9456ad-f8a7-56df-9195-3266ffabd941', 'params': {'n_estimators': 20, 'max_depth': 3, 'random_state': 0}, 'metadata': {}, 'keys': []}, 'metric': 46.84555314021837, 'params': {'n_estimators': 20, 'max_depth': 3, 'random_state': 0}, 'metadata': {}, 'cost': 1.0, 'rung': 0, 'sort_metric': 46.84555314021837, 'log_time': datetime.datetime(2021, 10, 6, 23, 41, 23, 761028)}\n"
     ]
    }
   ],
   "metadata": {}
  },
  {
   "cell_type": "markdown",
   "source": [
    "To enable monitoring on a distributed engine, you must also enable [remote call back](https://fugue-tutorials.readthedocs.io/en/latest/tutorials/rpc.html). Without shortcut, you have to set multiple configs. Here is an [example](https://www.kaggle.com/goodwanghan/tune-tutorials-2-non-iterative-problems#Realtime-Monitoring) with the `fuggle` package who sets the shortcuts for callbacks on Kaggle, it's as simple as one config: `callback: True`"
   ],
   "metadata": {}
  },
  {
   "cell_type": "code",
   "execution_count": 20,
   "source": [
    "space = Space(n_estimators=RandInt(1,20), max_depth=RandInt(2,10), random_state=0, n_jobs=1).sample(200, seed=0)\n",
    "\n",
    "callback_conf = {\n",
    "    \"fugue.rpc.server\": \"fugue.rpc.flask.FlaskRPCServer\",\n",
    "    \"fugue.rpc.flask_server.host\": \"0.0.0.0\",\n",
    "    \"fugue.rpc.flask_server.port\": \"1234\",\n",
    "    \"fugue.rpc.flask_server.timeout\": \"2 sec\",\n",
    "}\n",
    "\n",
    "result = suggest_for_noniterative_objective(\n",
    "    evaluate, space, top_n=1,\n",
    "    df = diabetes, df_name = \"train_df\",\n",
    "    monitor=\"ts\",\n",
    "    execution_engine = DaskExecutionEngine,\n",
    "    execution_engine_conf=callback_conf\n",
    ")\n",
    "\n",
    "for r in result:\n",
    "    print(r.trial.keys, r.sort_metric, r)"
   ],
   "outputs": [
    {
     "output_type": "display_data",
     "data": {
      "image/png": "[encoded data removed]",
      "text/plain": [
       "<Figure size 432x288 with 1 Axes>"
      ]
     },
     "metadata": {
      "needs_background": "light"
     }
    },
    {
     "output_type": "stream",
     "name": "stdout",
     "text": [
      "[] 46.89339381813802 {'trial': {'trial_id': 'af51195c-3da6-59e5-a4ab-9802041ab314', 'params': {'n_estimators': 20, 'max_depth': 5, 'random_state': 0, 'n_jobs': 1}, 'metadata': {}, 'keys': []}, 'metric': 46.89339381813802, 'params': {'n_estimators': 20, 'max_depth': 5, 'random_state': 0, 'n_jobs': 1}, 'metadata': {}, 'cost': 1.0, 'rung': 0, 'sort_metric': 46.89339381813802, 'log_time': datetime.datetime(2021, 10, 6, 23, 42, 0, 265059)}\n",
      "[] 46.89339381813802 {'trial': {'trial_id': 'af51195c-3da6-59e5-a4ab-9802041ab314', 'params': {'n_estimators': 20, 'max_depth': 5, 'random_state': 0, 'n_jobs': 1}, 'metadata': {}, 'keys': []}, 'metric': 46.89339381813802, 'params': {'n_estimators': 20, 'max_depth': 5, 'random_state': 0, 'n_jobs': 1}, 'metadata': {}, 'cost': 1.0, 'rung': 0, 'sort_metric': 46.89339381813802, 'log_time': datetime.datetime(2021, 10, 6, 23, 42, 0, 265059)}\n"
     ]
    }
   ],
   "metadata": {}
  },
  {
   "cell_type": "markdown",
   "source": [
    "For the shortcuts of monitoring\n",
    "\n",
    "1. `ts` to monitor the up-to-date best metric collected\n",
    "2. `hist` to motitor the histogram of metrics collected\n",
    "\n",
    "## Early Stopping\n",
    "\n",
    "When you enable monitoring, you often see the curve flattens quickly, so it can save significant time if it can stop trying the remaining trials. To do early stopping, it is required to enable callbacks for distributed engine (for monitoring, if you don't monitor, you don't need to enable callback).\n",
    "\n",
    "In `tune`, you can also combine stoppers with logical operators"
   ],
   "metadata": {}
  },
  {
   "cell_type": "code",
   "execution_count": 21,
   "source": [
    "from tune import small_improvement, n_updates\n",
    "\n",
    "space = Space(n_estimators=RandInt(1,20), max_depth=RandInt(2,10), random_state=0, n_jobs=1).sample(200, seed=0)\n",
    "\n",
    "callback_conf = {\n",
    "    \"fugue.rpc.server\": \"fugue.rpc.flask.FlaskRPCServer\",\n",
    "    \"fugue.rpc.flask_server.host\": \"0.0.0.0\",\n",
    "    \"fugue.rpc.flask_server.port\": \"1234\",\n",
    "    \"fugue.rpc.flask_server.timeout\": \"2 sec\",\n",
    "}\n",
    "\n",
    "result = suggest_for_noniterative_objective(\n",
    "    evaluate, space, top_n=1,\n",
    "    df = diabetes, df_name = \"train_df\",\n",
    "    monitor=\"ts\",\n",
    "    # stop if at least 5 updates on best \n",
    "    # AND the last update on best improved less than 0.1 (abs value)\n",
    "    stopper= n_updates(5) & small_improvement(0.1,1),\n",
    "    execution_engine = DaskExecutionEngine,\n",
    "    execution_engine_conf=callback_conf\n",
    ")\n",
    "\n",
    "for r in result:\n",
    "    print(r.trial.keys, r.sort_metric, r)"
   ],
   "outputs": [
    {
     "output_type": "display_data",
     "data": {
      "image/png": "[encoded data removed]",
      "text/plain": [
       "<Figure size 432x288 with 1 Axes>"
      ]
     },
     "metadata": {
      "needs_background": "light"
     }
    },
    {
     "output_type": "stream",
     "name": "stdout",
     "text": [
      "[] 47.01773216903467 {'trial': {'trial_id': 'f84ce5f5-207b-5ab7-a81a-be80879d5431', 'params': {'n_estimators': 19, 'max_depth': 4, 'random_state': 0, 'n_jobs': 1}, 'metadata': {}, 'keys': []}, 'metric': 47.01773216903467, 'params': {'n_estimators': 19, 'max_depth': 4, 'random_state': 0, 'n_jobs': 1}, 'metadata': {}, 'cost': 1.0, 'rung': 0, 'sort_metric': 47.01773216903467, 'log_time': datetime.datetime(2021, 10, 6, 23, 42, 40, 406040)}\n",
      "[] 47.01773216903467 {'trial': {'trial_id': 'f84ce5f5-207b-5ab7-a81a-be80879d5431', 'params': {'n_estimators': 19, 'max_depth': 4, 'random_state': 0, 'n_jobs': 1}, 'metadata': {}, 'keys': []}, 'metric': 47.01773216903467, 'params': {'n_estimators': 19, 'max_depth': 4, 'random_state': 0, 'n_jobs': 1}, 'metadata': {}, 'cost': 1.0, 'rung': 0, 'sort_metric': 47.01773216903467, 'log_time': datetime.datetime(2021, 10, 6, 23, 42, 40, 406040)}\n"
     ]
    }
   ],
   "metadata": {}
  },
  {
   "cell_type": "markdown",
   "source": [
    "The above example combined a warmup period `n_updates(5)` and improvement check `small_improvement(0.1,1)` so it does not stop too early or too late.\n",
    "\n",
    "You can also customize a simple stopper"
   ],
   "metadata": {}
  },
  {
   "cell_type": "code",
   "execution_count": 22,
   "source": [
    "from typing import List\n",
    "from tune.noniterative.stopper import SimpleNonIterativeStopper\n",
    "from tune import TrialReport\n",
    "\n",
    "def less_than(v: float) -> SimpleNonIterativeStopper:\n",
    "    def func(current: TrialReport, updated: bool, reports: List[TrialReport]):\n",
    "        return current.sort_metric <= v\n",
    "\n",
    "    return SimpleNonIterativeStopper(func, log_best_only=True)\n"
   ],
   "outputs": [],
   "metadata": {}
  },
  {
   "cell_type": "code",
   "execution_count": 23,
   "source": [
    "result = suggest_for_noniterative_objective(\n",
    "    evaluate, space, top_n=1,\n",
    "    df = diabetes, df_name = \"train_df\",\n",
    "    monitor=\"ts\",\n",
    "    stopper= less_than(49),\n",
    "    execution_engine = DaskExecutionEngine,\n",
    "    execution_engine_conf=callback_conf\n",
    ")\n",
    "\n",
    "for r in result:\n",
    "    print(r.trial.keys, r.sort_metric, r)"
   ],
   "outputs": [
    {
     "output_type": "display_data",
     "data": {
      "image/png": "[encoded data removed]",
      "text/plain": [
       "<Figure size 432x288 with 1 Axes>"
      ]
     },
     "metadata": {
      "needs_background": "light"
     }
    },
    {
     "output_type": "stream",
     "name": "stdout",
     "text": [
      "[] 47.74170052753941 {'trial': {'trial_id': 'b9ab0d11-991d-53d2-ad41-246dcbe23c22', 'params': {'n_estimators': 17, 'max_depth': 2, 'random_state': 0, 'n_jobs': 1}, 'metadata': {}, 'keys': []}, 'metric': 47.74170052753941, 'params': {'n_estimators': 17, 'max_depth': 2, 'random_state': 0, 'n_jobs': 1}, 'metadata': {}, 'cost': 1.0, 'rung': 0, 'sort_metric': 47.74170052753941, 'log_time': datetime.datetime(2021, 10, 6, 23, 43, 15, 891806)}\n",
      "[] 47.74170052753941 {'trial': {'trial_id': 'b9ab0d11-991d-53d2-ad41-246dcbe23c22', 'params': {'n_estimators': 17, 'max_depth': 2, 'random_state': 0, 'n_jobs': 1}, 'metadata': {}, 'keys': []}, 'metric': 47.74170052753941, 'params': {'n_estimators': 17, 'max_depth': 2, 'random_state': 0, 'n_jobs': 1}, 'metadata': {}, 'cost': 1.0, 'rung': 0, 'sort_metric': 47.74170052753941, 'log_time': datetime.datetime(2021, 10, 6, 23, 43, 15, 891806)}\n"
     ]
    }
   ],
   "metadata": {}
  },
  {
   "cell_type": "markdown",
   "source": [
    "The stopper will try to do graceful stop, so after the stop criteria, some running trials may still finish in with a distributed engine and report back, that is normal. If you want to stop faster, for example set: `stop_check_interval: \"5sec\"`. But if you have a lot of workers, the frequent check may be a burden on the driver side, it also depends on how heavy compute your custom stopper is using.\n",
    "\n",
    "**Notice:** You must create new stoppers everytime you call `suggest_for_noniterative_objective` because `SimpleNonIterativeStopper` is stateful."
   ],
   "metadata": {}
  },
  {
   "cell_type": "code",
   "execution_count": null,
   "source": [],
   "outputs": [],
   "metadata": {}
  }
 ]
}