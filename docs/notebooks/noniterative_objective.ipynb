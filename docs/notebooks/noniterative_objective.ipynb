{
 "metadata": {
  "language_info": {
   "codemirror_mode": {
    "name": "ipython",
    "version": 3
   },
   "file_extension": ".py",
   "mimetype": "text/x-python",
   "name": "python",
   "nbconvert_exporter": "python",
   "pygments_lexer": "ipython3",
   "version": "3.7.9"
  },
  "orig_nbformat": 2,
  "kernelspec": {
   "name": "python3",
   "display_name": "Python 3.7.9 64-bit"
  },
  "interpreter": {
   "hash": "4cd7ab41f5fca4b9b44701077e38c5ffd31fe66a6cab21e0214b68d958d0e462"
  }
 },
 "nbformat": 4,
 "nbformat_minor": 2,
 "cells": [
  {
   "cell_type": "markdown",
   "source": [
    "# Non-Iterative Objective\n",
    "\n",
    "Non-Iterative Objective refers to the objective functions with single iteration. They do not report progress during the execution to get a pruning decision.\n",
    "\n",
    "## Interfaceless\n",
    "\n",
    "The simplest way to construct a `Tune` compatible non-iterative objective is to wirte a native python function with type annotations."
   ],
   "metadata": {}
  },
  {
   "cell_type": "code",
   "execution_count": 3,
   "source": [
    "from typing import Tuple, Dict, Any\n",
    "\n",
    "def objective1(a, b) -> float:\n",
    "    return a**2 + b**2\n",
    "\n",
    "def objective2(a, b) -> Tuple[float, Dict[str, Any]]:\n",
    "    return a**2 + b**2, {\"metadata\":\"x\"}"
   ],
   "outputs": [],
   "metadata": {}
  },
  {
   "cell_type": "markdown",
   "source": [
    "If you function as `float` or `Tuple[float, Dict[str, Any]]` as output annotation, they are valid non-iterative objectives for `tune`\n",
    "\n",
    "`Tuple[float, Dict[str, Any]]` is to return both the metric and metadata.\n",
    "\n",
    "The following code demos how it works on the backend to convert your simple functions to `tune` compatible objects. You normally don't need to do that by yourself."
   ],
   "metadata": {}
  },
  {
   "cell_type": "code",
   "execution_count": 5,
   "source": [
    "from tune import to_noniterative_objective, Trial\n",
    "\n",
    "f1 = to_noniterative_objective(objective1)\n",
    "f2 = to_noniterative_objective(objective2, min_better=False)\n",
    "\n",
    "trial = Trial(\"id\", params=dict(a=1,b=1))\n",
    "report1 = f1.safe_run(trial)\n",
    "report2 = f2.safe_run(trial)\n",
    "\n",
    "print(type(f1))\n",
    "print(report1.metric, report1.sort_metric, report1.metadata)\n",
    "print(report2.metric, report2.sort_metric, report2.metadata)"
   ],
   "outputs": [
    {
     "output_type": "stream",
     "name": "stdout",
     "text": [
      "<class 'tune.noniterative.convert._NonIterativeObjectiveFuncWrapper'>\n",
      "2.0 2.0 {}\n",
      "2.0 -2.0 {'metadata': 'x'}\n"
     ]
    }
   ],
   "metadata": {}
  },
  {
   "cell_type": "markdown",
   "source": [
    "## Decorator Approach\n",
    "\n",
    "It is equivalent to use decorator on top of the functions. But now your functions depend on `tune` package."
   ],
   "metadata": {}
  },
  {
   "cell_type": "code",
   "execution_count": 7,
   "source": [
    "from tune import noniterative_objective\n",
    "\n",
    "@noniterative_objective\n",
    "def objective_3(a, b) -> float:\n",
    "    return a**2 + b**2\n",
    "\n",
    "@noniterative_objective(min_better=False)\n",
    "def objective_4(a, b) -> Tuple[float, Dict[str, Any]]:\n",
    "    return a**2 + b**2, {\"metadata\":\"x\"}\n",
    "\n",
    "report3 = objective_3.safe_run(trial)\n",
    "report4 = objective_4.safe_run(trial)\n",
    "\n",
    "print(report3.metric, report3.sort_metric, report3.metadata)\n",
    "print(report4.metric, report4.sort_metric, report4.metadata)"
   ],
   "outputs": [
    {
     "output_type": "stream",
     "name": "stdout",
     "text": [
      "2.0 2.0 {}\n",
      "2.0 -2.0 {'metadata': 'x'}\n"
     ]
    }
   ],
   "metadata": {}
  },
  {
   "cell_type": "markdown",
   "source": [
    "## Interface Approach\n",
    "\n",
    "With interface approach, you can access all properties of a trial. Also you can use more flexible logic to generate sort metric."
   ],
   "metadata": {}
  },
  {
   "cell_type": "code",
   "execution_count": 9,
   "source": [
    "from tune import NonIterativeObjectiveFunc, TrialReport\n",
    "\n",
    "class Objective(NonIterativeObjectiveFunc):\n",
    "    def generate_sort_metric(self, value: float) -> float:\n",
    "        return - value * 10\n",
    "\n",
    "    def run(self, trial: Trial) -> TrialReport:\n",
    "        params = trial.params.simple_value\n",
    "        metric = params[\"a\"]**2 + params[\"b\"]**2\n",
    "        return TrialReport(trial, metric, metadata=dict(m=\"x\"))\n",
    "\n",
    "report = Objective().safe_run(trial)\n",
    "print(report.metric, report.sort_metric, report.metadata)\n"
   ],
   "outputs": [
    {
     "output_type": "stream",
     "name": "stdout",
     "text": [
      "2.0 -20.0 {'m': 'x'}\n"
     ]
    }
   ],
   "metadata": {}
  },
  {
   "cell_type": "markdown",
   "source": [
    "## Factory Method\n",
    "\n",
    "Almost all higher level APIs of `tune` are using `TUNE_OBJECT_FACTORY` to convert various objects to `NonIterativeObjectiveFunc`."
   ],
   "metadata": {}
  },
  {
   "cell_type": "code",
   "execution_count": 10,
   "source": [
    "from tune import TUNE_OBJECT_FACTORY\n",
    "\n",
    "assert isinstance(TUNE_OBJECT_FACTORY.make_noniterative_objective(objective1), NonIterativeObjectiveFunc)\n",
    "assert isinstance(TUNE_OBJECT_FACTORY.make_noniterative_objective(objective_4), NonIterativeObjectiveFunc)\n",
    "assert isinstance(TUNE_OBJECT_FACTORY.make_noniterative_objective(Objective()), NonIterativeObjectiveFunc)\n"
   ],
   "outputs": [],
   "metadata": {}
  },
  {
   "cell_type": "markdown",
   "source": [
    "That is why in the higher level APIs, you can just pass in a very simple python function as objective but `tune` is still able to recognize.\n",
    "\n",
    "Actually you can make it even more flexible by configuring the factory."
   ],
   "metadata": {}
  },
  {
   "cell_type": "code",
   "execution_count": 11,
   "source": [
    "def to_obj(obj):\n",
    "    if obj == \"test\":\n",
    "        return to_noniterative_objective(objective1, min_better=False)\n",
    "    if isinstance(obj, NonIterativeObjectiveFunc):\n",
    "        return obj\n",
    "    raise NotImplementedError\n",
    "\n",
    "TUNE_OBJECT_FACTORY.set_noniterative_objective_converter(to_obj)  # user to_obj to replace the built-in default converter\n",
    "\n",
    "assert isinstance(TUNE_OBJECT_FACTORY.make_noniterative_objective(\"test\"), NonIterativeObjectiveFunc)"
   ],
   "outputs": [],
   "metadata": {}
  },
  {
   "cell_type": "markdown",
   "source": [
    "If you customize in this way, then you can pass in `test` to the higher level tuning APIs, and it will be recognized as a compatible objective.\n",
    "\n",
    "This is a common approach in Fugue projects. It enables you to use mostly primitive data types to represent what you want to do. For advanced users, if you spend some time on such configuration (one time effort), you will find the code is even simpler and less dependent on `fugue` and `tune`."
   ],
   "metadata": {}
  },
  {
   "cell_type": "code",
   "execution_count": null,
   "source": [],
   "outputs": [],
   "metadata": {}
  }
 ]
}