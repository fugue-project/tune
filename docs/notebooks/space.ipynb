{
 "metadata": {
  "language_info": {
   "codemirror_mode": {
    "name": "ipython",
    "version": 3
   },
   "file_extension": ".py",
   "mimetype": "text/x-python",
   "name": "python",
   "nbconvert_exporter": "python",
   "pygments_lexer": "ipython3",
   "version": "3.7.9"
  },
  "orig_nbformat": 2,
  "kernelspec": {
   "name": "python3",
   "display_name": "Python 3.7.9 64-bit"
  },
  "interpreter": {
   "hash": "4cd7ab41f5fca4b9b44701077e38c5ffd31fe66a6cab21e0214b68d958d0e462"
  }
 },
 "nbformat": 4,
 "nbformat_minor": 2,
 "cells": [
  {
   "cell_type": "markdown",
   "source": [
    "# Search Space\n",
    "\n",
    "**THIS IS THE MOST IMPORTANT CONCEPT OF TUNE, MUST READ**\n",
    "\n",
    "Tune defines its own searching space concept and different expressions. It inherits the Fugue philosophy: one expression for all frameworks. For the underlying optimizers (e.g. HyperOpt, Optuna), tune unifies the behaviors. For example `Rand(1.0, 5.0, q=1.5)` will uniformly search on `[1.0 , 2.5, 4.0]` no matter you use HyperOpt or Optuna as the underlying optimizer.\n",
    "\n",
    "In Tune, spaces are predefined before search, it is opposite to Optuna where you get variables inside objectives during runtime. In this way, your space definition is totally separated from objective definition, and your objectives may be just simple python functions independent from Tune."
   ],
   "metadata": {}
  },
  {
   "cell_type": "code",
   "execution_count": 1,
   "source": [
    "from tune import Space, Grid, Rand, RandInt, Choice\n",
    "import pandas as pd"
   ],
   "outputs": [],
   "metadata": {}
  },
  {
   "cell_type": "markdown",
   "source": [
    "## Simple Cases\n",
    "\n",
    "The simplest cases are spaces with only static variables. So the spaces will always generate single configuration."
   ],
   "metadata": {}
  },
  {
   "cell_type": "code",
   "execution_count": 2,
   "source": [
    "space = Space(a=1, b=1)\n",
    "print(list(space))"
   ],
   "outputs": [
    {
     "output_type": "stream",
     "name": "stdout",
     "text": [
      "[{'a': 1, 'b': 1}]\n"
     ]
    }
   ],
   "metadata": {}
  },
  {
   "cell_type": "markdown",
   "source": [
    "## Grid Search\n",
    "\n",
    "You can replace the static variables to `Grid` expression. We will cross product all grid expressions in the space, so you see in the second example, it generates 6 configurations."
   ],
   "metadata": {}
  },
  {
   "cell_type": "code",
   "execution_count": 3,
   "source": [
    "print(list(Space(a=1, b=Grid(\"a\",\"b\"))))\n",
    "print(list(Space(a=Grid(1,2), b=Grid(\"x\",\"y\",\"z\"))))"
   ],
   "outputs": [
    {
     "output_type": "stream",
     "name": "stdout",
     "text": [
      "[{'a': 1, 'b': 'a'}, {'a': 1, 'b': 'b'}]\n",
      "[{'a': 1, 'b': 'x'}, {'a': 1, 'b': 'y'}, {'a': 1, 'b': 'z'}, {'a': 2, 'b': 'x'}, {'a': 2, 'b': 'y'}, {'a': 2, 'b': 'z'}]\n"
     ]
    }
   ],
   "metadata": {}
  },
  {
   "cell_type": "markdown",
   "source": [
    "## Random Expressions\n",
    "\n",
    "Random search requires `.sample` method after you define the original space to specify how many random combinations you want to draw from the expression.\n",
    "\n",
    "### Choice\n",
    "\n",
    "`Choice` refers to discrete **unordered** set of values. So `Choice(1, 2, 3)` is equivalent to `Choide(2, 1, 3)`. When you do random sampling from `Choice`, every value has equal chance. When you do advanced search such as Bayesian Optimization, it also assumes no relation between values."
   ],
   "metadata": {}
  },
  {
   "cell_type": "code",
   "execution_count": 4,
   "source": [
    "space = Space(a=1, b=Choice(\"aa\", \"bb\", \"cc\")).sample(2, seed=1)\n",
    "print(list(space))"
   ],
   "outputs": [
    {
     "output_type": "stream",
     "name": "stdout",
     "text": [
      "[{'a': 1, 'b': 'bb'}, {'a': 1, 'b': 'aa'}]\n"
     ]
    }
   ],
   "metadata": {}
  },
  {
   "cell_type": "markdown",
   "source": [
    "### Rand\n",
    "\n",
    "`Rand` is the most common expression for a variable. It refers to sampling from a range of value.\n",
    "\n",
    "#### Rand(low, high)\n",
    "\n",
    "uniformly search between `[low, high)`"
   ],
   "metadata": {}
  },
  {
   "cell_type": "code",
   "execution_count": 5,
   "source": [
    "samples = Rand(10.1, 20.2).generate_many(10000, seed=0)\n",
    "pd.DataFrame(samples).hist();"
   ],
   "outputs": [
    {
     "output_type": "display_data",
     "data": {
      "image/png": "[encoded data removed]",
      "text/plain": [
       "<Figure size 432x288 with 1 Axes>"
      ]
     },
     "metadata": {
      "needs_background": "light"
     }
    }
   ],
   "metadata": {}
  },
  {
   "cell_type": "markdown",
   "source": [
    "#### Rand(low, high, log=True)\n",
    "\n",
    "search in the log space, but still in `[low, high)` so the smaller values get higher chance to be selected.\n",
    "\n",
    "For log space searching, low must be greater or equal to 1.\n",
    "\n",
    "The algorithm: `exp(uniform(log(low), log(high)))`"
   ],
   "metadata": {}
  },
  {
   "cell_type": "code",
   "execution_count": 6,
   "source": [
    "samples = Rand(10.1, 1000, log=True).generate_many(10000, seed=0)\n",
    "pd.DataFrame(samples).hist();"
   ],
   "outputs": [
    {
     "output_type": "display_data",
     "data": {
      "image/png": "[encoded data removed]",
      "text/plain": [
       "<Figure size 432x288 with 1 Axes>"
      ]
     },
     "metadata": {
      "needs_background": "light"
     }
    }
   ],
   "metadata": {}
  },
  {
   "cell_type": "markdown",
   "source": [
    "#### Rand(low, high, q, include_high)\n",
    "\n",
    "uniformly search between `low` and `high` with step `q`. `include_high` (default `True`) indicates whether the high value can be a candidate."
   ],
   "metadata": {}
  },
  {
   "cell_type": "code",
   "execution_count": 7,
   "source": [
    "print(Rand(-1.0,4.0,q=2.5).generate_many(10, seed=0))\n",
    "print(Rand(-1.0,4.0,q=2.5,include_high=False).generate_many(10, seed=0))\n",
    "\n",
    "samples = Rand(1.0,2.0,q=0.3).generate_many(10000, seed=0)\n",
    "pd.DataFrame(samples).hist();"
   ],
   "outputs": [
    {
     "output_type": "stream",
     "name": "stdout",
     "text": [
      "[1.5, 4.0, 1.5, 1.5, 1.5, 1.5, 1.5, 4.0, 4.0, 1.5]\n",
      "[1.5, 1.5, 1.5, 1.5, -1.0, 1.5, -1.0, 1.5, 1.5, -1.0]\n"
     ]
    },
    {
     "output_type": "display_data",
     "data": {
      "image/png": "[encoded data removed]",
      "text/plain": [
       "<Figure size 432x288 with 1 Axes>"
      ]
     },
     "metadata": {
      "needs_background": "light"
     }
    }
   ],
   "metadata": {}
  },
  {
   "cell_type": "markdown",
   "source": [
    "#### Rand(low, high, q, include_high, log=True)\n",
    "\n",
    "search between `low` and `high` with step `q` in log space. `include_high` (default `True`) indicates whether the high value can be a candidate."
   ],
   "metadata": {}
  },
  {
   "cell_type": "code",
   "execution_count": 8,
   "source": [
    "samples = Rand(1.0,16.0,q=5, log=True).generate_many(10000, seed=0)\n",
    "pd.DataFrame(samples).hist()\n",
    "\n",
    "samples = Rand(1.0,16.0,q=5, log=True, include_high=False).generate_many(10000, seed=0)\n",
    "pd.DataFrame(samples).hist();"
   ],
   "outputs": [
    {
     "output_type": "display_data",
     "data": {
      "image/png": "[encoded data removed]",
      "text/plain": [
       "<Figure size 432x288 with 1 Axes>"
      ]
     },
     "metadata": {
      "needs_background": "light"
     }
    },
    {
     "output_type": "display_data",
     "data": {
      "image/png": "[encoded data removed]",
      "text/plain": [
       "<Figure size 432x288 with 1 Axes>"
      ]
     },
     "metadata": {
      "needs_background": "light"
     }
    }
   ],
   "metadata": {}
  },
  {
   "cell_type": "markdown",
   "source": [
    "### RandInt\n",
    "\n",
    "`RandInt` can be considered as a special case of `Rand` where the `low`, `high` and `q` are all integers\n",
    "\n",
    "#### RandInt(low, high, include_high)"
   ],
   "metadata": {}
  },
  {
   "cell_type": "code",
   "execution_count": 9,
   "source": [
    "samples = RandInt(-2,2).generate_many(10000, seed=0)\n",
    "pd.DataFrame(samples).hist()\n",
    "\n",
    "samples = RandInt(-2,2,include_high=False).generate_many(10000, seed=0)\n",
    "pd.DataFrame(samples).hist();"
   ],
   "outputs": [
    {
     "output_type": "display_data",
     "data": {
      "image/png": "[encoded data removed]",
      "text/plain": [
       "<Figure size 432x288 with 1 Axes>"
      ]
     },
     "metadata": {
      "needs_background": "light"
     }
    },
    {
     "output_type": "display_data",
     "data": {
      "image/png": "[encoded data removed]",
      "text/plain": [
       "<Figure size 432x288 with 1 Axes>"
      ]
     },
     "metadata": {
      "needs_background": "light"
     }
    }
   ],
   "metadata": {}
  },
  {
   "cell_type": "markdown",
   "source": [
    "#### RandInt(low, high, include_high, q)\n",
    "\n",
    "Search starting from `low` with step `q` to `high`"
   ],
   "metadata": {}
  },
  {
   "cell_type": "code",
   "execution_count": 10,
   "source": [
    "samples = RandInt(-2,4,q=2).generate_many(10000, seed=0)\n",
    "pd.DataFrame(samples).hist()\n",
    "\n",
    "samples = RandInt(-2,4,include_high=False,q=2).generate_many(10000, seed=0)\n",
    "pd.DataFrame(samples).hist();"
   ],
   "outputs": [
    {
     "output_type": "display_data",
     "data": {
      "image/png": "[encoded data removed]",
      "text/plain": [
       "<Figure size 432x288 with 1 Axes>"
      ]
     },
     "metadata": {
      "needs_background": "light"
     }
    },
    {
     "output_type": "display_data",
     "data": {
      "image/png": "[encoded data removed]",
      "text/plain": [
       "<Figure size 432x288 with 1 Axes>"
      ]
     },
     "metadata": {
      "needs_background": "light"
     }
    }
   ],
   "metadata": {}
  },
  {
   "cell_type": "markdown",
   "source": [
    "#### RandInt(low, high, include_high, q, log)\n",
    "\n",
    "Search starting from `low` with step `q` to `high`. The difference is it's in log space, so lower values get higher chance.\n",
    "\n",
    "Also for log searching space, `low` must be `>=1`\n"
   ],
   "metadata": {}
  },
  {
   "cell_type": "code",
   "execution_count": 11,
   "source": [
    "samples = RandInt(1,7,q=2,log=True).generate_many(10000, seed=0)\n",
    "pd.DataFrame(samples).hist()\n",
    "\n",
    "samples = RandInt(1,7,include_high=False,q=2,log=True).generate_many(10000, seed=0)\n",
    "pd.DataFrame(samples).hist();"
   ],
   "outputs": [
    {
     "output_type": "display_data",
     "data": {
      "image/png": "[encoded data removed]",
      "text/plain": [
       "<Figure size 432x288 with 1 Axes>"
      ]
     },
     "metadata": {
      "needs_background": "light"
     }
    },
    {
     "output_type": "display_data",
     "data": {
      "image/png": "[encoded data removed]",
      "text/plain": [
       "<Figure size 432x288 with 1 Axes>"
      ]
     },
     "metadata": {
      "needs_background": "light"
     }
    }
   ],
   "metadata": {}
  },
  {
   "cell_type": "markdown",
   "source": [
    "## Random Search\n",
    "\n",
    "In Tune, you have two options to search on random expressions\n",
    "\n",
    "### As Level 1 Search\n",
    "\n",
    "Level 1 means before execution. So given a combination of random expressions, we draw certain number of parameter combinations before execution. So the system will only deal with static parameters during runtime.\n",
    "\n",
    "Grid search is also Level 1 search, and Level 1 search determines max parallelism. To also treat random expressions as Level 1, we must use `.sample`"
   ],
   "metadata": {}
  },
  {
   "cell_type": "code",
   "execution_count": 12,
   "source": [
    "space = Space(a=Rand(0,1), b=Choice(\"x\", \"y\")).sample(10, seed=0)\n",
    "list(space)"
   ],
   "outputs": [
    {
     "output_type": "execute_result",
     "data": {
      "text/plain": [
       "[{'a': 0.5488135039273248, 'b': 'x'},\n",
       " {'a': 0.7151893663724195, 'b': 'y'},\n",
       " {'a': 0.6027633760716439, 'b': 'y'},\n",
       " {'a': 0.5448831829968969, 'b': 'x'},\n",
       " {'a': 0.4236547993389047, 'b': 'x'},\n",
       " {'a': 0.6458941130666561, 'b': 'y'},\n",
       " {'a': 0.4375872112626925, 'b': 'y'},\n",
       " {'a': 0.8917730007820798, 'b': 'y'},\n",
       " {'a': 0.9636627605010293, 'b': 'y'},\n",
       " {'a': 0.3834415188257777, 'b': 'x'}]"
      ]
     },
     "metadata": {},
     "execution_count": 12
    }
   ],
   "metadata": {}
  },
  {
   "cell_type": "markdown",
   "source": [
    "If in space, you have both grid and random expressions, `.sample` will only apply to random samples, and then cross product with all grid combinations"
   ],
   "metadata": {}
  },
  {
   "cell_type": "code",
   "execution_count": 13,
   "source": [
    "space = Space(a=Grid(0,1), b=Rand(0,1), c=Grid(\"a\", \"b\"), d=Rand(0,1)).sample(3, seed=1)\n",
    "list(space)  # 2*2 *3 configs"
   ],
   "outputs": [
    {
     "output_type": "execute_result",
     "data": {
      "text/plain": [
       "[{'a': 0, 'b': 0.417022004702574, 'c': 'a', 'd': 0.30233257263183977},\n",
       " {'a': 0, 'b': 0.417022004702574, 'c': 'b', 'd': 0.30233257263183977},\n",
       " {'a': 1, 'b': 0.417022004702574, 'c': 'a', 'd': 0.30233257263183977},\n",
       " {'a': 1, 'b': 0.417022004702574, 'c': 'b', 'd': 0.30233257263183977},\n",
       " {'a': 0, 'b': 0.7203244934421581, 'c': 'a', 'd': 0.14675589081711304},\n",
       " {'a': 0, 'b': 0.7203244934421581, 'c': 'b', 'd': 0.14675589081711304},\n",
       " {'a': 1, 'b': 0.7203244934421581, 'c': 'a', 'd': 0.14675589081711304},\n",
       " {'a': 1, 'b': 0.7203244934421581, 'c': 'b', 'd': 0.14675589081711304},\n",
       " {'a': 0, 'b': 0.00011437481734488664, 'c': 'a', 'd': 0.0923385947687978},\n",
       " {'a': 0, 'b': 0.00011437481734488664, 'c': 'b', 'd': 0.0923385947687978},\n",
       " {'a': 1, 'b': 0.00011437481734488664, 'c': 'a', 'd': 0.0923385947687978},\n",
       " {'a': 1, 'b': 0.00011437481734488664, 'c': 'b', 'd': 0.0923385947687978}]"
      ]
     },
     "metadata": {},
     "execution_count": 13
    }
   ],
   "metadata": {}
  },
  {
   "cell_type": "markdown",
   "source": [
    "### As Level 2 Search\n",
    "\n",
    "Level 2 search happens during runtime, and bases on each level 1 search candidate. A common scenario is that we want to do grid search on one parameter, and do Bayesian Optimization on another parameter. Then we can parallelize on the choices of the first parameter and do sequential Bayesian Optimization on the second parameter.\n",
    "\n",
    "We will use 3rd party solutions for Level 2 search, such as HyperOpt and Optuna. To pass random expression to Level 2, we simply don't use `.sample`"
   ],
   "metadata": {}
  },
  {
   "cell_type": "code",
   "execution_count": 14,
   "source": [
    "space = Space(a=Grid(0,1), b=Rand(0,1), c=Grid(\"a\", \"b\"), d=Rand(0,1))\n",
    "list(space)  # 2*2 configs, each of the config still contains the Rand expression"
   ],
   "outputs": [
    {
     "output_type": "execute_result",
     "data": {
      "text/plain": [
       "[{'a': 0, 'b': Rand(low=0, high=1, q=None, log=False, include_high=True), 'c': 'a', 'd': Rand(low=0, high=1, q=None, log=False, include_high=True)},\n",
       " {'a': 0, 'b': Rand(low=0, high=1, q=None, log=False, include_high=True), 'c': 'b', 'd': Rand(low=0, high=1, q=None, log=False, include_high=True)},\n",
       " {'a': 1, 'b': Rand(low=0, high=1, q=None, log=False, include_high=True), 'c': 'a', 'd': Rand(low=0, high=1, q=None, log=False, include_high=True)},\n",
       " {'a': 1, 'b': Rand(low=0, high=1, q=None, log=False, include_high=True), 'c': 'b', 'd': Rand(low=0, high=1, q=None, log=False, include_high=True)}]"
      ]
     },
     "metadata": {},
     "execution_count": 14
    }
   ],
   "metadata": {}
  },
  {
   "cell_type": "markdown",
   "source": [
    "## Space Operations, Conditional Search and Hybrid Search\n",
    "\n",
    "Almost all popular tuning frameworks support conditional search. `Tune` approaches conditional search in a totally different way.\n",
    "\n",
    "Instead using if-else at runtime or using nested dictionaries to represent conditions, we introduce space operations:\n"
   ],
   "metadata": {}
  },
  {
   "cell_type": "code",
   "execution_count": 15,
   "source": [
    "space1 = Space(a=1, b=Grid(2,3))\n",
    "space2 = Space(c=Grid(\"a\",\"b\"))\n",
    "\n",
    "union_space = space1 + space2\n",
    "print(list(union_space))\n",
    "\n",
    "product_space = space1 * space2\n",
    "print(list(product_space))"
   ],
   "outputs": [
    {
     "output_type": "stream",
     "name": "stdout",
     "text": [
      "[{'a': 1, 'b': 2}, {'a': 1, 'b': 3}, {'c': 'a'}, {'c': 'b'}]\n",
      "[{'a': 1, 'b': 2, 'c': 'a'}, {'a': 1, 'b': 2, 'c': 'b'}, {'a': 1, 'b': 3, 'c': 'a'}, {'a': 1, 'b': 3, 'c': 'b'}]\n"
     ]
    }
   ],
   "metadata": {}
  },
  {
   "cell_type": "markdown",
   "source": [
    "Operator `+` will **union** the configurations from two spaces, it can solve most of the conditional search problems\n",
    "\n",
    "Operator `*` will **cross product** the configurations from two spaces, it can solve most of the hybrid search problems\n",
    "\n",
    "### Conditional Search"
   ],
   "metadata": {}
  },
  {
   "cell_type": "code",
   "execution_count": 16,
   "source": [
    "space1 = Space(model=\"LogisticRegression\")\n",
    "space2 = Space(model=\"RandomForestClassifier\", max_depth=Grid(3,4))\n",
    "space3 = Space(model=\"XGBClassifier\", n_estimators=Grid(10,100,1000))\n",
    "\n",
    "sweep = sum([space1, space2, space3])  # sum is another way to union\n",
    "list(sweep)"
   ],
   "outputs": [
    {
     "output_type": "execute_result",
     "data": {
      "text/plain": [
       "[{'model': 'LogisticRegression'},\n",
       " {'model': 'RandomForestClassifier', 'max_depth': 3},\n",
       " {'model': 'RandomForestClassifier', 'max_depth': 4},\n",
       " {'model': 'XGBClassifier', 'n_estimators': 10},\n",
       " {'model': 'XGBClassifier', 'n_estimators': 100},\n",
       " {'model': 'XGBClassifier', 'n_estimators': 1000}]"
      ]
     },
     "metadata": {},
     "execution_count": 16
    }
   ],
   "metadata": {}
  },
  {
   "cell_type": "markdown",
   "source": [
    "All 3 models have a parameter `random_state`, we want also want to do a grid search on it for every model. We just use `*`"
   ],
   "metadata": {}
  },
  {
   "cell_type": "code",
   "execution_count": 17,
   "source": [
    "sweep_with_random_state = sweep * Space(random_state=Grid(0,1))\n",
    "list(sweep_with_random_state)"
   ],
   "outputs": [
    {
     "output_type": "execute_result",
     "data": {
      "text/plain": [
       "[{'model': 'LogisticRegression', 'random_state': 0},\n",
       " {'model': 'LogisticRegression', 'random_state': 1},\n",
       " {'model': 'RandomForestClassifier', 'max_depth': 3, 'random_state': 0},\n",
       " {'model': 'RandomForestClassifier', 'max_depth': 3, 'random_state': 1},\n",
       " {'model': 'RandomForestClassifier', 'max_depth': 4, 'random_state': 0},\n",
       " {'model': 'RandomForestClassifier', 'max_depth': 4, 'random_state': 1},\n",
       " {'model': 'XGBClassifier', 'n_estimators': 10, 'random_state': 0},\n",
       " {'model': 'XGBClassifier', 'n_estimators': 10, 'random_state': 1},\n",
       " {'model': 'XGBClassifier', 'n_estimators': 100, 'random_state': 0},\n",
       " {'model': 'XGBClassifier', 'n_estimators': 100, 'random_state': 1},\n",
       " {'model': 'XGBClassifier', 'n_estimators': 1000, 'random_state': 0},\n",
       " {'model': 'XGBClassifier', 'n_estimators': 1000, 'random_state': 1}]"
      ]
     },
     "metadata": {},
     "execution_count": 17
    }
   ],
   "metadata": {}
  },
  {
   "cell_type": "markdown",
   "source": [
    "### Hybrid Search (Grid + Random + Bayesian Optimization)\n",
    "\n",
    "For `XGBClassifier`, we want to do a hybrid search: grid search on `random_state`, random search on `n_estimators` and Level 2 (Bayesian Optimization) search on `learning_rate`"
   ],
   "metadata": {}
  },
  {
   "cell_type": "code",
   "execution_count": 18,
   "source": [
    "xgb = Space(model=\"XGBClassifier\", learning_rate=Rand(0,1), random_state=Grid(0,1)) * Space(n_estimators=RandInt(10,1000)).sample(3, seed=0)\n",
    "list(xgb)"
   ],
   "outputs": [
    {
     "output_type": "execute_result",
     "data": {
      "text/plain": [
       "[{'model': 'XGBClassifier', 'learning_rate': Rand(low=0, high=1, q=None, log=False, include_high=True), 'random_state': 0, 'n_estimators': 553},\n",
       " {'model': 'XGBClassifier', 'learning_rate': Rand(low=0, high=1, q=None, log=False, include_high=True), 'random_state': 0, 'n_estimators': 718},\n",
       " {'model': 'XGBClassifier', 'learning_rate': Rand(low=0, high=1, q=None, log=False, include_high=True), 'random_state': 0, 'n_estimators': 607},\n",
       " {'model': 'XGBClassifier', 'learning_rate': Rand(low=0, high=1, q=None, log=False, include_high=True), 'random_state': 1, 'n_estimators': 553},\n",
       " {'model': 'XGBClassifier', 'learning_rate': Rand(low=0, high=1, q=None, log=False, include_high=True), 'random_state': 1, 'n_estimators': 718},\n",
       " {'model': 'XGBClassifier', 'learning_rate': Rand(low=0, high=1, q=None, log=False, include_high=True), 'random_state': 1, 'n_estimators': 607}]"
      ]
     },
     "metadata": {},
     "execution_count": 18
    }
   ],
   "metadata": {}
  },
  {
   "cell_type": "markdown",
   "source": [
    "Hybrid search and conditional search can also be used together"
   ],
   "metadata": {}
  },
  {
   "cell_type": "code",
   "execution_count": 19,
   "source": [
    "list(Space(model=\"LogisticRegression\")+xgb)"
   ],
   "outputs": [
    {
     "output_type": "execute_result",
     "data": {
      "text/plain": [
       "[{'model': 'LogisticRegression'},\n",
       " {'model': 'XGBClassifier', 'learning_rate': Rand(low=0, high=1, q=None, log=False, include_high=True), 'random_state': 0, 'n_estimators': 553},\n",
       " {'model': 'XGBClassifier', 'learning_rate': Rand(low=0, high=1, q=None, log=False, include_high=True), 'random_state': 0, 'n_estimators': 718},\n",
       " {'model': 'XGBClassifier', 'learning_rate': Rand(low=0, high=1, q=None, log=False, include_high=True), 'random_state': 0, 'n_estimators': 607},\n",
       " {'model': 'XGBClassifier', 'learning_rate': Rand(low=0, high=1, q=None, log=False, include_high=True), 'random_state': 1, 'n_estimators': 553},\n",
       " {'model': 'XGBClassifier', 'learning_rate': Rand(low=0, high=1, q=None, log=False, include_high=True), 'random_state': 1, 'n_estimators': 718},\n",
       " {'model': 'XGBClassifier', 'learning_rate': Rand(low=0, high=1, q=None, log=False, include_high=True), 'random_state': 1, 'n_estimators': 607}]"
      ]
     },
     "metadata": {},
     "execution_count": 19
    }
   ],
   "metadata": {}
  },
  {
   "cell_type": "code",
   "execution_count": null,
   "source": [],
   "outputs": [],
   "metadata": {}
  }
 ]
}