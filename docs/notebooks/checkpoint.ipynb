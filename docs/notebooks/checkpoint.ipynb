{
 "metadata": {
  "language_info": {
   "codemirror_mode": {
    "name": "ipython",
    "version": 3
   },
   "file_extension": ".py",
   "mimetype": "text/x-python",
   "name": "python",
   "nbconvert_exporter": "python",
   "pygments_lexer": "ipython3",
   "version": "3.7.9"
  },
  "orig_nbformat": 2,
  "kernelspec": {
   "name": "python379jvsc74a57bd04cd7ab41f5fca4b9b44701077e38c5ffd31fe66a6cab21e0214b68d958d0e462",
   "display_name": "Python 3.7.9 64-bit"
  }
 },
 "nbformat": 4,
 "nbformat_minor": 2,
 "cells": [
  {
   "source": [
    "# Checkpoint\n",
    "\n",
    "Checkpoint is normally constructed and provided to you, but if you are interested, this can give you some details."
   ],
   "cell_type": "markdown",
   "metadata": {}
  },
  {
   "cell_type": "code",
   "execution_count": 2,
   "metadata": {},
   "outputs": [
    {
     "output_type": "stream",
     "name": "stdout",
     "text": [
      "0\n"
     ]
    }
   ],
   "source": [
    "from tune import Checkpoint\n",
    "from triad import FileSystem\n",
    "\n",
    "fs = FileSystem().makedirs(\"/tmp/test\", recreate=True)\n",
    "checkpoint = Checkpoint(fs)\n",
    "print(len(checkpoint))"
   ]
  },
  {
   "cell_type": "code",
   "execution_count": 3,
   "metadata": {},
   "outputs": [],
   "source": [
    "!ls /tmp/test"
   ]
  },
  {
   "cell_type": "code",
   "execution_count": 4,
   "metadata": {},
   "outputs": [],
   "source": [
    "with checkpoint.create() as folder:\n",
    "    folder.writetext(\"a.txt\", \"test\")"
   ]
  },
  {
   "cell_type": "code",
   "execution_count": 5,
   "metadata": {},
   "outputs": [
    {
     "output_type": "stream",
     "name": "stdout",
     "text": [
      "897404e8-a4e2-4445-9c9f-3aef5648afa8  STATE\n"
     ]
    }
   ],
   "source": [
    "!ls /tmp/test"
   ]
  },
  {
   "source": [
    "Here is how to create a new checkpoint under `/tmp/test`"
   ],
   "cell_type": "markdown",
   "metadata": {}
  },
  {
   "cell_type": "code",
   "execution_count": 6,
   "metadata": {},
   "outputs": [],
   "source": [
    "with checkpoint.create() as folder:\n",
    "    folder.writetext(\"a.txt\", \"test2\")"
   ]
  },
  {
   "cell_type": "code",
   "execution_count": 9,
   "metadata": {},
   "outputs": [
    {
     "output_type": "stream",
     "name": "stdout",
     "text": [
      "/tmp/test/897404e8-a4e2-4445-9c9f-3aef5648afa8/:\na.txt\n\n/tmp/test/f0e49a54-d564-48a6-8f95-a42c0936c8ac/:\na.txt\n"
     ]
    }
   ],
   "source": [
    "!ls /tmp/test/*/"
   ]
  },
  {
   "source": [
    "Here is how to get the latest checkpoint folder"
   ],
   "cell_type": "markdown",
   "metadata": {}
  },
  {
   "cell_type": "code",
   "execution_count": 8,
   "metadata": {},
   "outputs": [
    {
     "output_type": "stream",
     "name": "stdout",
     "text": [
      "2\ntest2\n"
     ]
    }
   ],
   "source": [
    "print(len(checkpoint))\n",
    "print(checkpoint.latest.readtext(\"a.txt\"))"
   ]
  },
  {
   "cell_type": "code",
   "execution_count": null,
   "metadata": {},
   "outputs": [],
   "source": []
  }
 ]
}